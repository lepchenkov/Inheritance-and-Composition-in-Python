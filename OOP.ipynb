{
 "cells": [
  {
   "cell_type": "markdown",
   "metadata": {},
   "source": [
    "# OOP in python\n",
    "\n",
    "Notes and examples on Python classes\n",
    "https://realpython.com/inheritance-composition-python/"
   ]
  },
  {
   "cell_type": "markdown",
   "metadata": {},
   "source": [
    "### Inheritance\n",
    "**Inheritance** models what is calls an **is a** relationship. This means that when you have a Derived class that inherits from a Base class, you created a relationship were Derived **is a** specialized version of Base.\n",
    "\n",
    "Using Unified Modelling Language (UML) classes are represented as boxes with the class name on top. The inheritance relationship is represented by an arrow from the derived class pointing to the base class. The word extends is usually added to the arrow. \n",
    "\n",
    "<img src=\"pics/1.png\" alt=\"Inheritance\"  width='150'/>\n",
    "\n",
    "\n",
    "**Note**: In an inheritance relationship:\n",
    "- Classes that inherit from another are called derived classes, subclasses, or subtypes.\n",
    "- Classes from which other classes are derived are called base classes or super classes.\n",
    "- A derived class is said to derive, inherit, or extend a base class.\n",
    "\n",
    "\n",
    "Let’s say you have a base class Animal and you derive from it to create a Horse class. The inheritance relationship states that a Horse is an Animal. This means that Horse inherits the interface and implementation of Animal, and Horse objects can be used to replace Animal objects in the application. This is known as a *Liskov substitution principle*. "
   ]
  },
  {
   "cell_type": "markdown",
   "metadata": {},
   "source": [
    "**Side Note**: Liskov substitution stands for L in **SOLID**:\n",
    "- Single responsibility: a class should have a single responsibility, that is, only changes to one part of the software's specification should be able to affect the specification of the class. \n",
    "- Open-closed principle: software entities should be open for extension but closd for modification.\n",
    "- Liskov substitution principle: objects in a program should be replaceable with instances of their subtypes without altering the correctness of that program. \n",
    "- Interface segregation principle: many client specific interfaces are better than one general-purpose interface\n",
    "- Dependency inversion principle: one should depend upon abstractions, not concretions. \n",
    "\n",
    "side note: add code reuse, package principles, don't repeat yourself, GRASP, KISS, you aren't gonna need it."
   ]
  },
  {
   "cell_type": "markdown",
   "metadata": {},
   "source": [
    "You should always follow the Liskov substitution principle when creating your class hierarchies, and the problems you'll run into if you don't."
   ]
  },
  {
   "cell_type": "markdown",
   "metadata": {},
   "source": [
    "### Composition\n",
    "\n",
    "Composition is a concept that models a **has a** relationship. It enables creating complex types by combining objects of other types. This means that a class Composite can contain an object of another class Component. This relationship means that a Composite has a Component. \n",
    "\n",
    "Composition is represented through a line with a diamond at the Composite class pointing to the component class. The composite side can express the cardinality of the relationship. The cardinality indicates the number or valid range of Component instances the Composite class will contain. \n",
    "\n",
    "Classes that contain objects of other classes are usually referrred to as composites, where classes that are used to create more complex types are referred to as components. "
   ]
  },
  {
   "cell_type": "code",
   "execution_count": null,
   "metadata": {},
   "outputs": [],
   "source": []
  }
 ],
 "metadata": {
  "kernelspec": {
   "display_name": "Python 3",
   "language": "python",
   "name": "python3"
  },
  "language_info": {
   "codemirror_mode": {
    "name": "ipython",
    "version": 3
   },
   "file_extension": ".py",
   "mimetype": "text/x-python",
   "name": "python",
   "nbconvert_exporter": "python",
   "pygments_lexer": "ipython3",
   "version": "3.7.4"
  }
 },
 "nbformat": 4,
 "nbformat_minor": 2
}
