{
 "cells": [
  {
   "cell_type": "markdown",
   "metadata": {},
   "source": [
    "# Super Inheritance by Hettinger\n",
    "https://rhettinger.wordpress.com/2011/05/26/super-considered-super/"
   ]
  },
  {
   "cell_type": "markdown",
   "metadata": {},
   "source": [
    "Basic use case, a sublcass for extending a method from on of the builtin classes:"
   ]
  },
  {
   "cell_type": "code",
   "execution_count": 2,
   "metadata": {},
   "outputs": [],
   "source": [
    "class LoggingDict(dict):\n",
    "    def __setitem__(self, key, value):\n",
    "        logging.info('Setting %r to %r' % (key, value))\n",
    "        super().__setitem__(key,value)"
   ]
  },
  {
   "cell_type": "markdown",
   "metadata": {},
   "source": [
    "This class has all the same capabilities as its parent, dict, but it extends the _setitem_ method to make log entries whenever a key is updated. After making a log entry, the method uses super() to delegate the work for actually updating the dictionary with the key/value pair.\n",
    "\n",
    "Before super() was introduced, we would have hardwired the call with dict._setitem_(self, key, value). However, super() is better because it is a computed indirect reference (вычисленная косвенная ссылка).\n",
    "\n",
    "One benefit of indirection is that we don’t have to specify the delegate class by name. If you edit the source code to switch the base class to some other mapping, the super() reference will automatically follow. You have a single source of truth:"
   ]
  },
  {
   "cell_type": "code",
   "execution_count": 3,
   "metadata": {},
   "outputs": [],
   "source": [
    "# class LoggingDict(SomeOtherMapping):\n",
    "#     def __setitem__(self, key, value):\n",
    "#         logging.info('Setting %r to %r' % (key, value))\n",
    "#         super().__setitem__(key,value)"
   ]
  },
  {
   "cell_type": "markdown",
   "metadata": {},
   "source": [
    "In addition to isolating changes, there is another major benefit to computed indirection, one that may not be familiar to people coming from static languages. Since the indirection is computed at runtime, we have the freedom to influence the calculation so that the indirection will point to some other class.\n",
    "\n",
    "The calculation depends on both the class where super is called and on the instance’s tree of ancestors. The first component, the class where super is called, is determined by the source code for that class. In our example, super() is called in the LoggingDict._setitem_ method. That component is fixed. The second and more interesting component is variable (we can create new subclasses with a rich tree of ancestors).\n",
    "\n",
    "Let’s use this to our advantage to construct a logging ordered dictionary without modifying our existing classes:"
   ]
  },
  {
   "cell_type": "code",
   "execution_count": 4,
   "metadata": {},
   "outputs": [
    {
     "data": {
      "text/plain": [
       "(__main__.LoggingOD,\n",
       " __main__.LoggingDict,\n",
       " collections.OrderedDict,\n",
       " dict,\n",
       " object)"
      ]
     },
     "execution_count": 4,
     "metadata": {},
     "output_type": "execute_result"
    }
   ],
   "source": [
    "import collections\n",
    "\n",
    "class LoggingOD(LoggingDict, collections.OrderedDict):\n",
    "    pass\n",
    "\n",
    "LoggingOD.__mro__"
   ]
  },
  {
   "cell_type": "markdown",
   "metadata": {},
   "source": [
    "The ancestor tree for our new class is: LoggingOD, LoggingDict, OrderedDict, dict, object. For our purposes, the important result is that OrderedDict was inserted after LoggingDict and before dict! This means that the super() call in LoggingDict._setitem_ now dispatches the key/value update to OrderedDict instead of dict.\n",
    "\n",
    "Think about that for a moment. We did not alter the source code for LoggingDict. Instead we built a subclass whose only logic is to compose two existing classes and control their search order.\n",
    "\n",
    "The search order or the ancestor tree is officially known as the **Method Resolution Order (MRO)**\n",
    "\n",
    "The Sequence includes the class, its base classes, and the base classes of those bases and so on until reaching *object* which is the root class of all classes. The sequence is ordered so that a class always appears before its parents, and if there are multiple parents, they keep the same order as the tuple of base classes. \n",
    "\n"
   ]
  },
  {
   "cell_type": "code",
   "execution_count": 5,
   "metadata": {},
   "outputs": [
    {
     "data": {
      "text/plain": [
       "(__main__.LoggingDict, collections.OrderedDict)"
      ]
     },
     "execution_count": 5,
     "metadata": {},
     "output_type": "execute_result"
    }
   ],
   "source": [
    "LoggingOD.__bases__"
   ]
  },
  {
   "cell_type": "markdown",
   "metadata": {},
   "source": [
    "The MRO of LoggingOD is the one order that follows from those constraints:\n",
    "\n",
    "- LoggingOD precedes its parents, LoggingDict and OrderedDict\n",
    "- LoggingDict precedes OrderedDict because LoggingOD._bases_ is (0-main_.LoggingDict, collections.OrderedDict). **_ bases _** is a tuple containing the base classes, in the order of their occurrence in the base class list\n",
    "- LoggingDict precedes its parent which is dict\n",
    "- OrderedDict preceds its parent which is dict\n",
    "- dict precedes its parent which is object"
   ]
  },
  {
   "cell_type": "markdown",
   "metadata": {},
   "source": [
    "The process of solving those constraints is known as linearization. There are a number of good papers on the subject, but to create subclasses with an MRO to our liking, we only need to know the two constraints: children precede their parents and the order of appearance in __ bases __ is respected. "
   ]
  },
  {
   "cell_type": "markdown",
   "metadata": {},
   "source": [
    "**Practical Advice**\n",
    "super() is in the business of delegating method calls to some class in the instance's ancestor tree. For reordable method calls to work, the classes need to be designed cooperatively. This presents three easily solved practical issues:\n",
    "- the method being called by super() needs to exist\n",
    "- the caller and callee need to have a matching argument signature\n",
    "- and every occurence of the method needs to use super()"
   ]
  },
  {
   "cell_type": "markdown",
   "metadata": {},
   "source": [
    "**Strategies for getting the caller's arguments to match the signature of the called method:**\n",
    "\n",
    "This is a little more challenging than traditional method calls where the callee is known in advance. With super(), the callee is not known at the time a class is written (because a subclass written later may introduce new classes into the MRO).\n",
    "\n",
    "One approach is to stick with a fixed signature using positional arguments. This works well with methods like _setitem_ which have a fixed signature of two arguments, a key and a value. This technique is shown in the LoggingDict example where _setitem_ has the same signature in both LoggingDict and dict.\n",
    "\n",
    "A more flexible approach is to have every method in the ancestor tree cooperatively designed to accept keyword arguments and a keyword-arguments dictionary, to remove any arguments that it needs, and to forward the remaining arguments using **kwds, eventually leaving the dictionary empty for the final call in the chain.\n",
    "\n",
    "Each level strips-off the keyword arguments that it needs so that the final empty dict can be sent to a method that expects no arguments at all (for example, object._init_ expects zero arguments):"
   ]
  },
  {
   "cell_type": "code",
   "execution_count": 9,
   "metadata": {},
   "outputs": [],
   "source": [
    "class Shape:\n",
    "    def __init__(self, shapename, **kwds):\n",
    "        self.shapename = shapename\n",
    "        super().__init__(**kwds)\n",
    "        \n",
    "class ColoredShape(Shape):\n",
    "    def __init__(self, color, **kwds):\n",
    "        self.color = color\n",
    "        super().__init__(**kwds)\n",
    "        \n",
    "cs = ColoredShape(color='red', shapename='circle')"
   ]
  },
  {
   "cell_type": "markdown",
   "metadata": {},
   "source": [
    "**How make sure the target method exists?**\n",
    "\n",
    "The above example shows the simplest case. We know that object has an _init_ method and that object is always the last class in the MRO chain, so any sequence of calls to super()._ init _ is guaranteed to end with a call to object._init_ method. In other words, we’re guaranteed that the target of the super() call is guaranteed to exist and won’t fail with an AttributeError.\n",
    "\n",
    "For cases where object doesn’t have the method of interest (a draw() method for example), we need to write a root class that is guaranteed to be called before object. The responsibility of the root class is simply to eat the method call without making a forwarding call using super().\n",
    "\n",
    "Root.draw can also employ defensive programming using an assertion to ensure it isn’t masking some other draw() method later in the chain.  This could happen if a subclass erroneously incorporates a class that has a draw() method but doesn’t inherit from Root.:"
   ]
  },
  {
   "cell_type": "code",
   "execution_count": 13,
   "metadata": {},
   "outputs": [
    {
     "name": "stdout",
     "output_type": "stream",
     "text": [
      "Drawing. Setting color to: blue\n",
      "Drawing. Setting shape to: square\n",
      "Delegetion chain stops here\n"
     ]
    }
   ],
   "source": [
    "class Root:\n",
    "    def draw(self):\n",
    "        print('Delegetion chain stops here')\n",
    "        #the delegation chain stops here\n",
    "        assert not hasattr(super(), 'draw')\n",
    "        \n",
    "class Shape(Root):\n",
    "    def __init__(self, shapename, **kwds):\n",
    "        self.shapename = shapename\n",
    "        super().__init__(**kwds)\n",
    "        \n",
    "    def draw(self):\n",
    "        print('Drawing. Setting shape to:', self.shapename)\n",
    "        super().draw()\n",
    "        \n",
    "class ColoredShape(Shape):\n",
    "    def __init__(self, color, **kwds):\n",
    "        self.color = color\n",
    "        super().__init__(**kwds)\n",
    "    def draw(self):\n",
    "        print('Drawing. Setting color to:', self.color)\n",
    "        super().draw()\n",
    "    \n",
    "cs = ColoredShape(color='blue', shapename='square')\n",
    "cs.draw()"
   ]
  },
  {
   "cell_type": "code",
   "execution_count": 14,
   "metadata": {},
   "outputs": [
    {
     "data": {
      "text/plain": [
       "(__main__.ColoredShape, __main__.Shape, __main__.Root, object)"
      ]
     },
     "execution_count": 14,
     "metadata": {},
     "output_type": "execute_result"
    }
   ],
   "source": [
    "ColoredShape.__mro__"
   ]
  },
  {
   "cell_type": "markdown",
   "metadata": {},
   "source": [
    "If subclasses want to inject other classes into the MRO, those other classes also need to inherit from Root so that no path for calling draw() can reach object without having been stopped by Root.draw. This should be clearly documented so that someone writing new cooperating classes will know to subclass from Root. This restriction is not much different than Python’s own requirement that all new exceptions must inherit from BaseException."
   ]
  },
  {
   "cell_type": "markdown",
   "metadata": {},
   "source": [
    "The techniques shown above assure that super() calls a method that is known to exist and that the signature will be correct; however, we’re still relying on super() being called at each step so that the chain of delegation continues unbroken. This is easy to achieve if we’re designing the classes cooperatively – just add a super() call to every method in the chain.\n",
    "\n",
    "The three techniques listed above provide the means to design cooperative classes that can be composed or reordered by subclasses."
   ]
  },
  {
   "cell_type": "markdown",
   "metadata": {},
   "source": [
    "**How to Incorporate a Non-cooperative Class** \n",
    "\n",
    "Occasionally, a subclass may want to use cooperative multiple inheritance techniques with a third-party class that wasn’t designed for it (perhaps its method of interest doesn’t use super() or perhaps the class doesn’t inherit from the root class). This situation is easily remedied by creating an *adapter class* that plays by the rules.\n",
    "\n",
    "For example, the following Moveable class does not make super() calls, and it has an _init_() signature that is incompatible with object._init_, and it does not inherit from Root:"
   ]
  },
  {
   "cell_type": "code",
   "execution_count": 16,
   "metadata": {},
   "outputs": [],
   "source": [
    "class Moveable:\n",
    "    def __init__(self, x, y):\n",
    "        self.x = x\n",
    "        self.y = y\n",
    "    def draw(self):\n",
    "        print('Drawing at position:', self.x, self.y)"
   ]
  },
  {
   "cell_type": "markdown",
   "metadata": {},
   "source": [
    "If we want to use this class with our cooperatively designed ColoredShape hierarchy, we need to make an adapter with the requisite super() calls:"
   ]
  },
  {
   "cell_type": "code",
   "execution_count": 17,
   "metadata": {},
   "outputs": [
    {
     "name": "stdout",
     "output_type": "stream",
     "text": [
      "Drawing. Setting color to: red\n",
      "Drawing. Setting shape to: triangle\n",
      "Drawing at position: 10 20\n",
      "Delegetion chain stops here\n"
     ]
    }
   ],
   "source": [
    "class MoveableAdapter(Root):\n",
    "    def __init__(self, x, y, **kwds):\n",
    "        self.movable = Moveable(x, y)\n",
    "        super().__init__(**kwds)\n",
    "    def draw(self):\n",
    "        self.movable.draw()\n",
    "        super().draw()\n",
    "\n",
    "class MovableColoredShape(ColoredShape, MoveableAdapter):\n",
    "    pass\n",
    "\n",
    "MovableColoredShape(color='red', shapename='triangle',\n",
    "                    x=10, y=20).draw()"
   ]
  }
 ],
 "metadata": {
  "kernelspec": {
   "display_name": "Python 3",
   "language": "python",
   "name": "python3"
  },
  "language_info": {
   "codemirror_mode": {
    "name": "ipython",
    "version": 3
   },
   "file_extension": ".py",
   "mimetype": "text/x-python",
   "name": "python",
   "nbconvert_exporter": "python",
   "pygments_lexer": "ipython3",
   "version": "3.7.4"
  }
 },
 "nbformat": 4,
 "nbformat_minor": 2
}
