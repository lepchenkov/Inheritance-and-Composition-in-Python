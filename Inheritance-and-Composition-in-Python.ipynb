{
 "cells": [
  {
   "cell_type": "markdown",
   "metadata": {},
   "source": [
    "# OOP in python\n",
    "\n",
    "Notes and examples on Python classes\n",
    "https://realpython.com/inheritance-composition-python/\n",
    "\n",
    "https://rhettinger.wordpress.com/2011/05/26/super-considered-super/"
   ]
  },
  {
   "cell_type": "markdown",
   "metadata": {},
   "source": [
    "## Inheritance\n",
    "**Inheritance** models what is calls an **is a** relationship. This means that when you have a Derived class that inherits from a Base class, you created a relationship were Derived **is a** specialized version of Base.\n",
    "\n",
    "Using Unified Modelling Language (UML) classes are represented as boxes with the class name on top. The inheritance relationship is represented by an arrow from the derived class pointing to the base class. The word extends is usually added to the arrow. \n",
    "\n",
    "<img src=\"pics/1.png\" alt=\"Inheritance\"  width='200'/>\n",
    "\n",
    "\n",
    "**Note**: In an inheritance relationship:\n",
    "- Classes that inherit from another are called derived classes, subclasses, or subtypes.\n",
    "- Classes from which other classes are derived are called base classes or super classes.\n",
    "- A derived class is said to derive, inherit, or extend a base class.\n",
    "\n",
    "\n",
    "Let’s say you have a base class Animal and you derive from it to create a Horse class. The inheritance relationship states that a Horse is an Animal. This means that Horse inherits the interface and implementation of Animal, and Horse objects can be used to replace Animal objects in the application. This is known as a *Liskov substitution principle*. "
   ]
  },
  {
   "cell_type": "markdown",
   "metadata": {},
   "source": [
    "**Side Note**: Liskov substitution stands for L in **SOLID**:\n",
    "- Single responsibility: a class should have a single responsibility, that is, only changes to one part of the software's specification should be able to affect the specification of the class. \n",
    "- Open-closed principle: software entities should be open for extension but closd for modification.\n",
    "- Liskov substitution principle: objects in a program should be replaceable with instances of their subtypes without altering the correctness of that program. \n",
    "- Interface segregation principle: many client specific interfaces are better than one general-purpose interface\n",
    "- Dependency inversion principle: one should depend upon abstractions, not concretions. \n",
    "\n",
    "side note: later add code reuse, package principles, don't repeat yourself, GRASP, KISS, you aren't gonna need it."
   ]
  },
  {
   "cell_type": "markdown",
   "metadata": {},
   "source": [
    "You should always follow the Liskov substitution principle when creating your class hierarchies, and the problems you'll run into if you don't."
   ]
  },
  {
   "cell_type": "markdown",
   "metadata": {},
   "source": [
    "### Composition\n",
    "\n",
    "Composition is a concept that models a **has a** relationship. It enables creating complex types by combining objects of other types. This means that a class Composite can contain an object of another class Component. This relationship means that a Composite has a Component. \n",
    "\n",
    "Composition is represented through a line with a diamond at the Composite class pointing to the component class. \n",
    "\n",
    "<img src=\"pics/2.png\" alt=\"Inheritance\"  width='200'/>\n",
    "\n",
    "The composite side can express the cardinality of the relationship. The cardinality indicates the number or valid range of Component instances the Composite class will contain. \n",
    "\n",
    "Classes that contain objects of other classes are usually referrred to as composites, where classes that are used to create more complex types are referred to as components. \n",
    "\n",
    "For example, House class can be composed by another object of type Tail. Composition allows you to express that relationship by saying a Horse **has a tail**. \n",
    "\n",
    "Composition enables you to reuse code by adding objects to other objects, as apposed to inheriting the interface and implementation of other classes. Both Horse and Dog classes cal leverage the functionality of Tail through composition without deriving one class from the other. "
   ]
  },
  {
   "cell_type": "markdown",
   "metadata": {},
   "source": [
    "### Overview of Inheritance in Python\n",
    "\n",
    "Everything in Python is as object. Modules are objects, class definitions and functions are objects, and, of course, objects created from classes are objects too.\n",
    "\n",
    "Inheritance is a required feature of every object oriented programming language. Python supports inheritance and multiple inheritance. \n",
    "\n"
   ]
  },
  {
   "cell_type": "markdown",
   "metadata": {},
   "source": [
    "##### The Object Super Class"
   ]
  },
  {
   "cell_type": "code",
   "execution_count": 14,
   "metadata": {},
   "outputs": [
    {
     "name": "stdout",
     "output_type": "stream",
     "text": [
      "26\n"
     ]
    },
    {
     "data": {
      "text/plain": [
       "['__class__',\n",
       " '__delattr__',\n",
       " '__dict__',\n",
       " '__dir__',\n",
       " '__doc__',\n",
       " '__eq__',\n",
       " '__format__',\n",
       " '__ge__',\n",
       " '__getattribute__',\n",
       " '__gt__',\n",
       " '__hash__',\n",
       " '__init__',\n",
       " '__init_subclass__',\n",
       " '__le__',\n",
       " '__lt__',\n",
       " '__module__',\n",
       " '__ne__',\n",
       " '__new__',\n",
       " '__reduce__',\n",
       " '__reduce_ex__',\n",
       " '__repr__',\n",
       " '__setattr__',\n",
       " '__sizeof__',\n",
       " '__str__',\n",
       " '__subclasshook__',\n",
       " '__weakref__']"
      ]
     },
     "execution_count": 14,
     "metadata": {},
     "output_type": "execute_result"
    }
   ],
   "source": [
    "class MyClass:\n",
    "    pass\n",
    "\n",
    "c = MyClass()\n",
    "print(len(dir(c)))\n",
    "dir(c)"
   ]
  },
  {
   "cell_type": "markdown",
   "metadata": {},
   "source": [
    "*dir()* returns **a list of all the members** in the specified object. We have not declared any members in MyClass, but the list is far from empty."
   ]
  },
  {
   "cell_type": "code",
   "execution_count": 15,
   "metadata": {},
   "outputs": [
    {
     "name": "stdout",
     "output_type": "stream",
     "text": [
      "23\n"
     ]
    },
    {
     "data": {
      "text/plain": [
       "['__class__',\n",
       " '__delattr__',\n",
       " '__dir__',\n",
       " '__doc__',\n",
       " '__eq__',\n",
       " '__format__',\n",
       " '__ge__',\n",
       " '__getattribute__',\n",
       " '__gt__',\n",
       " '__hash__',\n",
       " '__init__',\n",
       " '__init_subclass__',\n",
       " '__le__',\n",
       " '__lt__',\n",
       " '__ne__',\n",
       " '__new__',\n",
       " '__reduce__',\n",
       " '__reduce_ex__',\n",
       " '__repr__',\n",
       " '__setattr__',\n",
       " '__sizeof__',\n",
       " '__str__',\n",
       " '__subclasshook__']"
      ]
     },
     "execution_count": 15,
     "metadata": {},
     "output_type": "execute_result"
    }
   ],
   "source": [
    "o = object()\n",
    "print(len(dir(o)))\n",
    "dir(o) "
   ]
  },
  {
   "cell_type": "markdown",
   "metadata": {},
   "source": [
    "There are some additional members in MyClass like __dict__ and __weakref__, but every single member of the object class is also present im MyClass.\n",
    "\n",
    "This is because every class you create in Python implicitly derives from object. We could be even more explicit and write class MyClass(object), but it is redundant and unnecessary. "
   ]
  },
  {
   "cell_type": "markdown",
   "metadata": {},
   "source": [
    "**Side note**: in legacy Python we have to explicitly derive from *object*."
   ]
  },
  {
   "cell_type": "markdown",
   "metadata": {},
   "source": [
    "#### Exceptions are an Exception\n",
    "Every class that you create in Python will implicitly derive from object. The exception to this rule are classes used to indicate errors by raising an exception."
   ]
  },
  {
   "cell_type": "code",
   "execution_count": 16,
   "metadata": {},
   "outputs": [
    {
     "ename": "TypeError",
     "evalue": "exceptions must derive from BaseException",
     "output_type": "error",
     "traceback": [
      "\u001b[0;31m---------------------------------------------------------------------------\u001b[0m",
      "\u001b[0;31mTypeError\u001b[0m                                 Traceback (most recent call last)",
      "\u001b[0;32m<ipython-input-16-27957d5a1b1b>\u001b[0m in \u001b[0;36m<module>\u001b[0;34m\u001b[0m\n\u001b[1;32m      2\u001b[0m     \u001b[0;32mpass\u001b[0m\u001b[0;34m\u001b[0m\u001b[0;34m\u001b[0m\u001b[0m\n\u001b[1;32m      3\u001b[0m \u001b[0;34m\u001b[0m\u001b[0m\n\u001b[0;32m----> 4\u001b[0;31m \u001b[0;32mraise\u001b[0m \u001b[0mMyError\u001b[0m\u001b[0;34m(\u001b[0m\u001b[0;34m)\u001b[0m\u001b[0;34m\u001b[0m\u001b[0;34m\u001b[0m\u001b[0m\n\u001b[0m",
      "\u001b[0;31mTypeError\u001b[0m: exceptions must derive from BaseException"
     ]
    }
   ],
   "source": [
    "class MyError:\n",
    "    pass\n",
    "\n",
    "raise MyError()"
   ]
  },
  {
   "cell_type": "markdown",
   "metadata": {},
   "source": [
    "We created a new class to indicate a type of error. But when trying to use it to raise an exception it failed. BaseException is a base class provided for all error types. To create a new error type, you must derive your class from BaseException or one of its derived classes. The convention in Python is to derive your custom error types from Exception, which in turn derives from BaseException. "
   ]
  },
  {
   "cell_type": "code",
   "execution_count": 17,
   "metadata": {},
   "outputs": [
    {
     "ename": "MyError",
     "evalue": "",
     "output_type": "error",
     "traceback": [
      "\u001b[0;31m---------------------------------------------------------------------------\u001b[0m",
      "\u001b[0;31mMyError\u001b[0m                                   Traceback (most recent call last)",
      "\u001b[0;32m<ipython-input-17-ea4de7be0979>\u001b[0m in \u001b[0;36m<module>\u001b[0;34m\u001b[0m\n\u001b[1;32m      2\u001b[0m     \u001b[0;32mpass\u001b[0m\u001b[0;34m\u001b[0m\u001b[0;34m\u001b[0m\u001b[0m\n\u001b[1;32m      3\u001b[0m \u001b[0;34m\u001b[0m\u001b[0m\n\u001b[0;32m----> 4\u001b[0;31m \u001b[0;32mraise\u001b[0m \u001b[0mMyError\u001b[0m\u001b[0;34m(\u001b[0m\u001b[0;34m)\u001b[0m\u001b[0;34m\u001b[0m\u001b[0;34m\u001b[0m\u001b[0m\n\u001b[0m",
      "\u001b[0;31mMyError\u001b[0m: "
     ]
    }
   ],
   "source": [
    "class MyError(Exception):\n",
    "    pass\n",
    "\n",
    "raise MyError()"
   ]
  },
  {
   "cell_type": "markdown",
   "metadata": {},
   "source": [
    "When derived from exception the class correctly states the type of error raised. "
   ]
  },
  {
   "cell_type": "markdown",
   "metadata": {},
   "source": [
    "### Creating Class Hierarchies\n",
    "\n",
    "Inheritance is the mechanism we will use to create hierarchies of related classes. These related classes will share a common interface that will be defined in the base classes. Derived classes can specialize the interface by providing a particular implementation where applies. \n",
    "\n",
    "The HR system needs to process payroll for the company's employees, but there are different types of employees depending on how their payroll is calculated. "
   ]
  },
  {
   "cell_type": "code",
   "execution_count": 18,
   "metadata": {},
   "outputs": [],
   "source": [
    "#in hr.py\n",
    "\n",
    "class PayrollSystem:\n",
    "    def calculate_payroll(self, employees):\n",
    "        print('Calculating Payroll')\n",
    "        print('===================')\n",
    "        for employee in employees: \n",
    "            print(f'Payroll for: {employee.id} - {employee.name}')\n",
    "            print(f'- Check amount: {employee.calculate_payroll()}')\n",
    "            print('')"
   ]
  },
  {
   "cell_type": "markdown",
   "metadata": {},
   "source": [
    "The PayrollSystem implements a .calculate_payroll() method that takes a collection of employees and prints their id, name, and check amount using the .calculate_payroll() method exposed on each employee object.\n",
    "\n",
    "Now implement a base class Employee that handles the common interface for every employee type:"
   ]
  },
  {
   "cell_type": "code",
   "execution_count": 19,
   "metadata": {},
   "outputs": [],
   "source": [
    "#in hr.py\n",
    "\n",
    "class Employee:\n",
    "    def __init__(self, id, name):\n",
    "        self.id = id\n",
    "        self.name = name"
   ]
  },
  {
   "cell_type": "markdown",
   "metadata": {},
   "source": [
    "Employee is the base class for all employee types. It is constructed with an id and a name. What you are saying is that every Employee must have an id assigned as well as a name.\n",
    "\n",
    "The HR system requires that every Employee processed must provide a .calculate_payroll() interface that returns the weekly salary for the employee. The implementation of that interface differs depending on the type of Employee.\n",
    "\n",
    "For example, administrative workers have a fixed salary, so every week they get paid the same amount:"
   ]
  },
  {
   "cell_type": "code",
   "execution_count": 20,
   "metadata": {},
   "outputs": [],
   "source": [
    "#in hr.py\n",
    "\n",
    "class SalaryEmployee(Employee):\n",
    "    def __init__(self, id, name, weekly_salary):\n",
    "        super().__init__(id, name)\n",
    "        self.weekly_salary = weekly_salary\n",
    "        \n",
    "    def calculate_payroll(self):\n",
    "        return self.weekly_salary"
   ]
  },
  {
   "cell_type": "markdown",
   "metadata": {},
   "source": [
    "We create a derived class SalaryEmployee that inherits Employee. The class is initialized with the id and name required by the base class, and we use super() to initialize the members of the base class. \n",
    "\n",
    "SalaryEmployee also requires a weekly_salary initialization parameter that represents the amount the employee makes per week. \n",
    "\n",
    "The class provides the required .calculate_payroll() method used by the HR system. The implementation just returns the amount stored in weekly_salary. \n",
    "\n",
    "The company also employs manufacturing workers that are pain by the hour, so we add an HourlyEmployee to the HR system:"
   ]
  },
  {
   "cell_type": "code",
   "execution_count": 21,
   "metadata": {},
   "outputs": [],
   "source": [
    "#in hr.py\n",
    "\n",
    "class HourlyEmployee(Employee):\n",
    "    def __init__(self, id, name, hours_worked, hour_rate):\n",
    "        super().__init__(id, name)\n",
    "        self.hours_worked = hours_worked\n",
    "        self.hour_rate = hour_rate\n",
    "        \n",
    "    def calculate_payroll(self):\n",
    "        return self.hours_worked * self.hour_rate"
   ]
  },
  {
   "cell_type": "markdown",
   "metadata": {},
   "source": [
    "The HourlyEmployee class is initialized with id and name, like the base class, plus the hours_worked and the hour_rate required to calculate the payroll. The .calculate_payroll() method is implemented by returning the hours worked times the hour rate.\n",
    "\n",
    "Finally, the company employs sales associates that are paid through a fixed salary plus a commission based on their sales, so you create a CommissionEmployee class:"
   ]
  },
  {
   "cell_type": "code",
   "execution_count": 22,
   "metadata": {},
   "outputs": [],
   "source": [
    "class ComissionEmployee(SalaryEmployee):\n",
    "    def __init__(self, id, name, weekly_salary,\n",
    "                 commission):\n",
    "        super().__init__(id, name, weekly_salary)\n",
    "        self.commission = commission\n",
    "        \n",
    "    def calculate_payroll(self):\n",
    "        fixed = super().calculate_payroll()\n",
    "        return fixed + self.commission"
   ]
  },
  {
   "cell_type": "markdown",
   "metadata": {},
   "source": [
    "You derive ComissionEmployee from SalaryEmployee because both classes have a weekly_salary to consider. At the same time, CommissionEmployee is initialized with a commission value that is based on the sales for the employee. \n",
    "\n",
    ".calculate_payroll() leverages the implementation of the base class to retrieve the fixed salary and adds the commission value. \n",
    "\n",
    "Since CommissionEmployee derives from SalaryEmployee, you have access to the weekly_salary property directly, and you could’ve implemented .calculate_payroll() using the value of that property.\n",
    "\n",
    "The problem with acessing the property directly is tha if the implementation of SalaryEmployee.calculate_payroll() changes, then you'll have to also change the implementation of CommissionEmployee.calculate_payroll(). It's better to rely on the already implemented method in the base class and extend the funcionality ad needed.\n",
    "\n",
    "The UML diagram of the classes looks like this:\n",
    "<img src=\"pics/3.png\" alt=\"Schema\"  width='500'/>\n"
   ]
  },
  {
   "cell_type": "markdown",
   "metadata": {},
   "source": [
    "This diagram shows the inheritance hierarchy of the classes. The derived classes implement the IPayrollCalculator interface, which is required by the PayrollSystem. The PayrollSystem.calculate_payroll() implementation requires that the employee objects passed contain an id, name, and calculate_payroll() implementation.\n",
    "\n",
    "Interfaces are represented similarly to classes with the word interface above the interface name. Interface names are usually prefixed with a capital I.\n",
    "\n",
    "The application creates its employees and passes them to the payroll system to process payroll:"
   ]
  },
  {
   "cell_type": "code",
   "execution_count": 23,
   "metadata": {},
   "outputs": [
    {
     "name": "stdout",
     "output_type": "stream",
     "text": [
      "Calculating Payroll\n",
      "===================\n",
      "Payroll for: 1 - John Smith\n",
      "- Check amount: 1500\n",
      "\n",
      "Payroll for: 2 - Jane Doe\n",
      "- Check amount: 600\n",
      "\n",
      "Payroll for: 3 - Kevin Bacon\n",
      "- Check amount: 1250\n",
      "\n"
     ]
    }
   ],
   "source": [
    "# in program.py\n",
    "\n",
    "#import hr\n",
    "\n",
    "salary_employee = SalaryEmployee(1, 'John Smith', 1500)\n",
    "hourly_employee = HourlyEmployee(2, 'Jane Doe', 40, 15)\n",
    "comission_employee = ComissionEmployee(3, 'Kevin Bacon', 1000, 250)\n",
    "\n",
    "payroll_system = PayrollSystem()\n",
    "\n",
    "payroll_system.calculate_payroll([salary_employee,\n",
    "                                  hourly_employee,\n",
    "                                  comission_employee,])"
   ]
  },
  {
   "cell_type": "markdown",
   "metadata": {},
   "source": [
    "The program creates three employee objects, one for each of the derived classes. Then, it creates the payroll system and passes a list of the employees to its .calculate_payroll() method, which calculates the payroll for each employee and prints the results.\n",
    "\n",
    "Notice how the Employee base class doesn’t define a .calculate_payroll() method. This means that if you were to create a plain Employee object and pass it to the PayrollSystem, then you’d get an error. You can try it in the Python interactive interpreter:"
   ]
  },
  {
   "cell_type": "markdown",
   "metadata": {},
   "source": [
    "### Abstract Base Class in Python\n",
    "\n",
    "The Employee class in the example above is what is called an abstract base class. Abstract base classes to be inherited, but never instantiated. Python provides the **abc module** to define abstract base classes. \n",
    "\n",
    "We can use leading underscores in our class name to communicate that objects of that class should not be created. Underscores provide a friendly way to prevent misuse of you code, but they don't prevent eager users from creating instances of that class. \n",
    "\n",
    "the abc module in the Python standard library provides functionality to prevent creating objects from abstract base classes. \n",
    "\n",
    "We can modify the impolementation of the Employee class to ensure that it can't be instantiated: "
   ]
  },
  {
   "cell_type": "code",
   "execution_count": 24,
   "metadata": {},
   "outputs": [],
   "source": [
    "from abc import ABC, abstractmethod\n",
    "\n",
    "class Employee(ABC):\n",
    "    def __init__(self, id, name):\n",
    "        self.id = id\n",
    "        self.name = name\n",
    "    \n",
    "    @abstractmethod\n",
    "    def calculate_payroll(self):\n",
    "        pass"
   ]
  },
  {
   "cell_type": "markdown",
   "metadata": {},
   "source": [
    "We derived Employee from ABC, making it an abstract base class. Then we decorate the .calculate_payroll() @abstractmethod decorator. \n",
    "\n",
    "This change has two nice side-effects:\n",
    "1. We are telling users of the module that objects of type Employee can't be created. \n",
    "2. We are telling other developers working on hr module that if they derive from Employee, then **they must override** the .calculate_payroll() abstract method."
   ]
  },
  {
   "cell_type": "code",
   "execution_count": 25,
   "metadata": {},
   "outputs": [
    {
     "ename": "TypeError",
     "evalue": "Can't instantiate abstract class Employee with abstract methods calculate_payroll",
     "output_type": "error",
     "traceback": [
      "\u001b[0;31m---------------------------------------------------------------------------\u001b[0m",
      "\u001b[0;31mTypeError\u001b[0m                                 Traceback (most recent call last)",
      "\u001b[0;32m<ipython-input-25-c93898703ac1>\u001b[0m in \u001b[0;36m<module>\u001b[0;34m\u001b[0m\n\u001b[0;32m----> 1\u001b[0;31m \u001b[0memployee\u001b[0m \u001b[0;34m=\u001b[0m \u001b[0mEmployee\u001b[0m\u001b[0;34m(\u001b[0m\u001b[0;36m1\u001b[0m\u001b[0;34m,\u001b[0m \u001b[0;34m'abstract'\u001b[0m\u001b[0;34m)\u001b[0m\u001b[0;34m\u001b[0m\u001b[0;34m\u001b[0m\u001b[0m\n\u001b[0m",
      "\u001b[0;31mTypeError\u001b[0m: Can't instantiate abstract class Employee with abstract methods calculate_payroll"
     ]
    }
   ],
   "source": [
    "employee = Employee(1, 'abstract')"
   ]
  },
  {
   "cell_type": "markdown",
   "metadata": {},
   "source": [
    "The output shows that the class cannot be instantiated because it contains an abstract method .calculate_payroll(). Derived classes must override the method to allow creating objects of their type. "
   ]
  },
  {
   "cell_type": "markdown",
   "metadata": {},
   "source": [
    "### Implementation Inheritance vs Interface Inheritance\n",
    "\n",
    "When you derive one class from another, the derived class inherits both:\n",
    "1. **The base class interface**: the derived class inherits all the methods, properties and attributes of the base class.\n",
    "\n",
    "2. **The base class implementation**: the derived class inherits the code that implements the class interface.\n",
    "\n",
    "Most of the time we will want to inherit the implementation of a class, but we will want to implement multiple interfaces, so you objects can be used in different situations. \n",
    "\n",
    "Modern programming languages are designed with this basic concept in mind. The allow you to inherit from a single class, but you can implement multiple interfaces.\n",
    "\n",
    "In Python, we don't have to explicitly declare an interface. Any object that implements the desired interface can be used in place of another object. This is known as **duck typing**. Duck typing is usually explained as “if it behaves like a duck, then it’s a duck.”\n",
    "\n",
    "To illustrate, will make DisgruntledEmployee class which doesn't derive from Employee. "
   ]
  },
  {
   "cell_type": "code",
   "execution_count": 26,
   "metadata": {},
   "outputs": [],
   "source": [
    "class DisgruntledEmployee:\n",
    "    def __init__(self, id, name):\n",
    "        self.id = id\n",
    "        self.name = name\n",
    "    \n",
    "    def calculate_payroll(self):\n",
    "        return 1000"
   ]
  },
  {
   "cell_type": "markdown",
   "metadata": {},
   "source": [
    "The DisgruntledEmployee clss does not derive from Employee but exposes the same interface required by the PayrollSystem. The PayrollSystem.calculate_payroll() requires a list of objects that implement the following interface:\n",
    "- an **id** property or attribute that returns the employee's id\n",
    "- a **name** property or  attribute that represents the name\n",
    "- a **calculate_payroll()** method that does not take any parameters and returns the payroll amount to process\n",
    "\n",
    "All these requirements are met by the DisgruntledEmployee class, so the PayrollSystem can still callculate its payroll. "
   ]
  },
  {
   "cell_type": "code",
   "execution_count": 27,
   "metadata": {},
   "outputs": [
    {
     "name": "stdout",
     "output_type": "stream",
     "text": [
      "Calculating Payroll\n",
      "===================\n",
      "Payroll for: 20000 - Disgruntled-instance\n",
      "- Check amount: 1000\n",
      "\n"
     ]
    }
   ],
   "source": [
    "disgruntled_employee = DisgruntledEmployee(20000, \n",
    "                                           'Disgruntled-instance')\n",
    "payroll_system = PayrollSystem()\n",
    "payroll_system.calculate_payroll([disgruntled_employee])"
   ]
  },
  {
   "cell_type": "markdown",
   "metadata": {},
   "source": [
    "The PayrollSystem can still process the new object because it meets the desired interface. \n",
    "\n",
    "Since we don't have to derive from a specific class for you objects to be reusable by the program, you may be asking sy you should use inheritance instead of just implementing the desired interface. The following rules may help:\n",
    "- Use inheritance to reuse the implementation: your derived classes should leverage most of their base class implementation. They must also model an is a relationship. A Customer class might also have an id and a name, but a Customer is not an Employee, so you should not use inheritance.\n",
    "- Implement an interface to be reused: when you want your class to be reused by a specific part of your application, you implement the required interface in your class, but you don’t need to provide a base class, or inherit from another class.\n",
    "\n",
    "Regarding Employee class and other subclasses of Employee:\n",
    "\n",
    "Basically, we are inheriting the implementation of the id and name attributes of the Employee class in your derived classes. Since .calculate_payroll() is just an interface to the PayrollSystem.calculate_payroll() method, you don’t need to implement it in the Employee base class.\n",
    "\n",
    "Notice how the CommissionEmployee class derives from SalaryEmployee. This means that CommissionEmployee inherits the implementation and interface of SalaryEmployee. You can see how the CommissionEmployee.calculate_payroll() method leverages the base class implementation because it relies on the result from **super().calculate_payroll()** to implement its own version."
   ]
  },
  {
   "cell_type": "markdown",
   "metadata": {},
   "source": [
    "### The Class Explosion Problem\n",
    "\n",
    "Inheritance may lead to a huge hierarchical structure of classes that is hard to understand and maintain. This is known as the **class explosion problem**. \n",
    "\n",
    "You started building a class hierarchy of Employee types used by the PayrollSystem to calculate payroll. Now, you need to add some functionality to those classes, so they can be used with the new ProductivitySystem.\n",
    "\n",
    "The ProductivitySystem tracks productivity based on employee roles. There are different employee roles:\n",
    "\n",
    "- Managers: They walk around yelling at people telling them what to do. They are salaried employees and make more money.\n",
    "- Secretaries: They do all the paper work for managers and ensure that everything gets billed and payed on time. They are also salaried employees but make less money.\n",
    "- Sales employees: They make a lot of phone calls to sell products. They have a salary, but they also get commissions for sales.\n",
    "- Factory workers: They manufacture the products for the company. They are paid by the hour.\n",
    "\n",
    "With those requirements, you start to see that Employee and its derived classes might belong somewhere other than the hr module because now they’re also used by the ProductivitySystem.\n",
    "\n",
    "You create an employees module and move the classes there:"
   ]
  },
  {
   "cell_type": "code",
   "execution_count": 18,
   "metadata": {},
   "outputs": [],
   "source": [
    "# in employees.py\n",
    "\n",
    "class Employee:\n",
    "    def __init__(self, id, name):\n",
    "        self.id = id\n",
    "        self.name = name\n",
    "    \n",
    "class SalaryEmployee(Employee):\n",
    "    def __init__(self, id, name, weekly_salary):\n",
    "        super().__init__(id, name)\n",
    "        self.weekly_salary = weekly_salary\n",
    "        \n",
    "    def calculate_payroll(self):\n",
    "        return self.weekly_salary\n",
    "    \n",
    "class HourlyEmployee(Employee):\n",
    "    def __init__(self, id, name, hours_worked,\n",
    "                 hours_rate):\n",
    "        super().__init__(id, name)\n",
    "        self.hours_worked = hours_worked\n",
    "        self.hours_rate = hours_rate\n",
    "    \n",
    "    def calculate_payroll(self):\n",
    "        return self.hours_worked * self.hours_rate\n",
    "    \n",
    "class CommissionEmployee(SalaryEmployee):\n",
    "    def __init__(self, id, name, weekly_salary,\n",
    "                 comission):\n",
    "        super().__init__(id, name, weekly_salary)\n",
    "        self.comission = comission\n",
    "    \n",
    "    def calculate_payroll(self):\n",
    "        fixed = super().calculate_payroll()\n",
    "        return fixed + self.comission\n",
    "    \n",
    "# pay attention that self does not go into super().__init__(in, name)"
   ]
  },
  {
   "cell_type": "markdown",
   "metadata": {},
   "source": [
    "The implementation remains the same, but you move the classes to the employee module. Now, you change your program to support the change:"
   ]
  },
  {
   "cell_type": "code",
   "execution_count": 19,
   "metadata": {},
   "outputs": [
    {
     "name": "stdout",
     "output_type": "stream",
     "text": [
      "Calculating Payroll\n",
      "===================\n",
      "Payroll for: 1 - John Smith\n",
      "- Check amount: 1500\n",
      "\n",
      "Payroll for: 2 - Jane Doe\n",
      "- Check amount: 600\n",
      "\n",
      "Payroll for: 3 - Kevin Bacon\n",
      "- Check amount: 1250\n",
      "\n"
     ]
    }
   ],
   "source": [
    "# in program.py\n",
    "\n",
    "# from hr import .\n",
    "# from employees import .\n",
    "\n",
    "salary_employee = SalaryEmployee(1, 'John Smith', 1500)\n",
    "hourly_employee = HourlyEmployee(2, 'Jane Doe', 40, 15)\n",
    "commission_employee = CommissionEmployee(3, 'Kevin Bacon', 1000, 250)\n",
    "payroll_system = PayrollSystem()\n",
    "payroll_system.calculate_payroll([\n",
    "    salary_employee,\n",
    "    hourly_employee,\n",
    "    commission_employee\n",
    "])"
   ]
  },
  {
   "cell_type": "markdown",
   "metadata": {},
   "source": [
    "With everything in place we can start adding the new classes:"
   ]
  },
  {
   "cell_type": "code",
   "execution_count": 20,
   "metadata": {},
   "outputs": [],
   "source": [
    "# in employess.py\n",
    "\n",
    "class Manager(SalaryEmployee):\n",
    "    def work(self, hours):\n",
    "        print(f'{self.name} screams and yells for {hours} hours.')\n",
    "        \n",
    "class Secretary(SalaryEmployee):\n",
    "    def work(self, hours):\n",
    "        print(f'{self.name} expends {hours} hours doing office paperwork.')\n",
    "\n",
    "class SalesPerson(CommissionEmployee):\n",
    "    def work(self, hours):\n",
    "        print(f'{self.name} expends {hours} hours on the phone.')\n",
    "\n",
    "class FactoryWorker(HourlyEmployee):\n",
    "    def work(self, hours):\n",
    "        print(f'{self.name} manufactures gadgets for {hours} hours.')"
   ]
  },
  {
   "cell_type": "markdown",
   "metadata": {},
   "source": [
    "First, you add a Manager class that derives from SalaryEmployee. The class exposes a method work() that will be used by the productivity system. The method takes the hours the employee worked.\n",
    "\n",
    "Then you add Secretary, SalesPerson, and FactoryWorker and then implement the work() interface, so they can be used by the productivity system.\n",
    "\n",
    "Now, you can add the ProductivitySytem class:"
   ]
  },
  {
   "cell_type": "code",
   "execution_count": 21,
   "metadata": {},
   "outputs": [],
   "source": [
    "# in productivity.py\n",
    "\n",
    "class ProductivitySystem:\n",
    "    def track(self, employees, hours):\n",
    "        print('Tracking Employee Productivity')\n",
    "        print('==============================')\n",
    "        for employee in employees:\n",
    "            employee.work(hours)\n",
    "        print('')"
   ]
  },
  {
   "cell_type": "markdown",
   "metadata": {},
   "source": [
    "The class tracks employees in the track() method that takes a list of employees and the number of hours to track. "
   ]
  },
  {
   "cell_type": "code",
   "execution_count": 22,
   "metadata": {},
   "outputs": [
    {
     "name": "stdout",
     "output_type": "stream",
     "text": [
      "Tracking Employee Productivity\n",
      "==============================\n",
      "Mary Poppins screams and yells for 40 hours.\n",
      "John Smith expends 40 hours doing office paperwork.\n",
      "Kevin Bacon expends 40 hours on the phone.\n",
      "Jane Doe manufactures gadgets for 40 hours.\n",
      "\n",
      "Calculating Payroll\n",
      "===================\n",
      "Payroll for: 1 - Mary Poppins\n",
      "- Check amount: 3000\n",
      "\n",
      "Payroll for: 2 - John Smith\n",
      "- Check amount: 1500\n",
      "\n",
      "Payroll for: 3 - Kevin Bacon\n",
      "- Check amount: 1250\n",
      "\n",
      "Payroll for: 2 - Jane Doe\n",
      "- Check amount: 600\n",
      "\n"
     ]
    }
   ],
   "source": [
    "# !!!wildcard import is an antipattern and should be avoided!!!\n",
    "# from hr import *\n",
    "# from employees import *\n",
    "# from productivity import *\n",
    "\n",
    "\n",
    "manager = Manager(1, 'Mary Poppins', 3000)\n",
    "secretary = Secretary(2, 'John Smith', 1500)\n",
    "sales_guy = SalesPerson(3, 'Kevin Bacon', 1000, 250)\n",
    "factory_worker = FactoryWorker(2, 'Jane Doe', 40, 15)\n",
    "employees = [\n",
    "    manager,\n",
    "    secretary,\n",
    "    sales_guy,\n",
    "    factory_worker,\n",
    "]\n",
    "productivity_system = ProductivitySystem()\n",
    "productivity_system.track(employees, 40)\n",
    "payroll_system = PayrollSystem()\n",
    "payroll_system.calculate_payroll(employees)"
   ]
  },
  {
   "cell_type": "markdown",
   "metadata": {},
   "source": [
    "The program shows the employees working for 40 hours through the productivity system. Then it calculates and displays the payroll for each of the employees.\n",
    "\n",
    "The program works as expected, but you had to add four new classes to support the changes. As new requirements come, your class hierarchy will inevitably grow, leading to the class explosion problem where your hierarchies will become so big that they’ll be hard to understand and maintain.\n",
    "\n",
    "The following diagram shows the new class hierarchy:"
   ]
  },
  {
   "cell_type": "markdown",
   "metadata": {},
   "source": [
    "<img src=\"pics/4.png\" alt=\"Schema\"  width='700'/>"
   ]
  },
  {
   "cell_type": "markdown",
   "metadata": {},
   "source": [
    "The diagram shows how the class hierarchy is growing. Additional requirements might have an exponential effect in the number of classes with this design."
   ]
  },
  {
   "cell_type": "markdown",
   "metadata": {},
   "source": [
    "## Inheriting Multiple Classes\n",
    "\n",
    "Python is one of the few modern programming languages that supports multiple inheritance. Multiple inheritance is the ability to derive a class from multiple base classes at the same time.\n",
    "\n",
    "Multiple inheritance has a bad reputation to the extent that most modern programming languages don’t support it. Instead, modern programming languages support the concept of interfaces. In those languages, you inherit from a single base class and then implement multiple interfaces, so your class can be re-used in different situations.\n",
    "\n",
    "This approach puts some constraints in your designs. You can only inherit the implementation of one class by directly deriving from it. You can implement multiple interfaces, but you can’t inherit the implementation of multiple classes.\n",
    "\n",
    "This constraint is good for software design because it forces you to design your classes with fewer dependencies on each other. You will see later in this article that you can leverage multiple implementations through composition, which makes software more flexible. This section, however, is about multiple inheritance, so let’s take a look at how it works.\n",
    "\n",
    "It turns out that sometimes temporary secretaries are hired when there is too much paperwork to do. The TemporarySecretary class performs the role of a Secretary in the context of the ProductivitySystem, but for payroll purposes, it is an HourlyEmployee.\n",
    "\n",
    "You look at your class design. It has grown a little bit, but you can still understand how it works. It seems you have two options:\n",
    "\n",
    "- Derive from Secretary: You can derive from Secretary to inherit the .work() method for the role, and then override the .calculate_payroll() method to implement it as an HourlyEmployee.\n",
    "\n",
    "- Derive from HourlyEmployee: You can derive from HourlyEmployee to inherit the .calculate_payroll() method, and then override the .work() method to implement it as a Secretary.\n",
    "\n",
    "Then, you remember that Python supports multiple inheritance, so you decide to derive from both Secretary and HourlyEmployee:"
   ]
  },
  {
   "cell_type": "code",
   "execution_count": 23,
   "metadata": {},
   "outputs": [],
   "source": [
    "# in employees.py\n",
    "\n",
    "class TemporarySecretary(Secretary, HourlyEmployee):\n",
    "    pass"
   ]
  },
  {
   "cell_type": "markdown",
   "metadata": {},
   "source": [
    "Python allows you to inherit from two different classes by specifying them between parenthesis in the class declaration.\n",
    "\n",
    "Now, you modify your program to add the new temporary secretary employee."
   ]
  },
  {
   "cell_type": "code",
   "execution_count": 24,
   "metadata": {},
   "outputs": [
    {
     "ename": "TypeError",
     "evalue": "__init__() takes 4 positional arguments but 5 were given",
     "output_type": "error",
     "traceback": [
      "\u001b[0;31m---------------------------------------------------------------------------\u001b[0m",
      "\u001b[0;31mTypeError\u001b[0m                                 Traceback (most recent call last)",
      "\u001b[0;32m<ipython-input-24-45a41390cf3e>\u001b[0m in \u001b[0;36m<module>\u001b[0;34m\u001b[0m\n\u001b[0;32m----> 1\u001b[0;31m \u001b[0mtemporary_secretary\u001b[0m \u001b[0;34m=\u001b[0m \u001b[0mTemporarySecretary\u001b[0m\u001b[0;34m(\u001b[0m\u001b[0;36m5\u001b[0m\u001b[0;34m,\u001b[0m \u001b[0;34m'Robin Williams'\u001b[0m\u001b[0;34m,\u001b[0m \u001b[0;36m40\u001b[0m\u001b[0;34m,\u001b[0m \u001b[0;36m9\u001b[0m\u001b[0;34m)\u001b[0m\u001b[0;34m\u001b[0m\u001b[0;34m\u001b[0m\u001b[0m\n\u001b[0m\u001b[1;32m      2\u001b[0m \u001b[0mcompany_employees\u001b[0m \u001b[0;34m=\u001b[0m \u001b[0;34m[\u001b[0m\u001b[0mtemporary_secretary\u001b[0m\u001b[0;34m,\u001b[0m\u001b[0;34m]\u001b[0m\u001b[0;34m\u001b[0m\u001b[0;34m\u001b[0m\u001b[0m\n\u001b[1;32m      3\u001b[0m \u001b[0;34m\u001b[0m\u001b[0m\n\u001b[1;32m      4\u001b[0m \u001b[0mproductivity_system\u001b[0m \u001b[0;34m=\u001b[0m \u001b[0mProductivitySystem\u001b[0m\u001b[0;34m(\u001b[0m\u001b[0;34m)\u001b[0m\u001b[0;34m\u001b[0m\u001b[0;34m\u001b[0m\u001b[0m\n\u001b[1;32m      5\u001b[0m \u001b[0mproductivity_system\u001b[0m\u001b[0;34m.\u001b[0m\u001b[0mtrack\u001b[0m\u001b[0;34m(\u001b[0m\u001b[0mcompany_employees\u001b[0m\u001b[0;34m,\u001b[0m \u001b[0;36m40\u001b[0m\u001b[0;34m)\u001b[0m\u001b[0;34m\u001b[0m\u001b[0;34m\u001b[0m\u001b[0m\n",
      "\u001b[0;31mTypeError\u001b[0m: __init__() takes 4 positional arguments but 5 were given"
     ]
    }
   ],
   "source": [
    "temporary_secretary = TemporarySecretary(5, 'Robin Williams', 40, 9)\n",
    "company_employees = [temporary_secretary,]\n",
    "\n",
    "productivity_system = ProductivitySystem()\n",
    "productivity_system.track(company_employees, 40)\n",
    "payroll_system = PayrollSystem()\n",
    "payroll_system.calculate_payroll(company_employees)"
   ]
  },
  {
   "cell_type": "markdown",
   "metadata": {},
   "source": [
    "You get a TypeError exception saying that 4 positional arguments where expected, but 5 were given.\n",
    "\n",
    "This is because you derived TemporarySecretary first from Secretary and then from HourlyEmployee, so the interpreter is trying to use Secretary.__init__() to initialize the object.\n",
    "\n",
    "Okay, let’s reverse it:"
   ]
  },
  {
   "cell_type": "code",
   "execution_count": 25,
   "metadata": {},
   "outputs": [
    {
     "ename": "TypeError",
     "evalue": "__init__() missing 1 required positional argument: 'weekly_salary'",
     "output_type": "error",
     "traceback": [
      "\u001b[0;31m---------------------------------------------------------------------------\u001b[0m",
      "\u001b[0;31mTypeError\u001b[0m                                 Traceback (most recent call last)",
      "\u001b[0;32m<ipython-input-25-b12bee0de627>\u001b[0m in \u001b[0;36m<module>\u001b[0;34m\u001b[0m\n\u001b[1;32m      2\u001b[0m     \u001b[0;32mpass\u001b[0m\u001b[0;34m\u001b[0m\u001b[0;34m\u001b[0m\u001b[0m\n\u001b[1;32m      3\u001b[0m \u001b[0;34m\u001b[0m\u001b[0m\n\u001b[0;32m----> 4\u001b[0;31m \u001b[0mtemporary_secretary\u001b[0m \u001b[0;34m=\u001b[0m \u001b[0mTemporarySecretary\u001b[0m\u001b[0;34m(\u001b[0m\u001b[0;36m5\u001b[0m\u001b[0;34m,\u001b[0m \u001b[0;34m'Robin Williams'\u001b[0m\u001b[0;34m,\u001b[0m \u001b[0;36m40\u001b[0m\u001b[0;34m,\u001b[0m \u001b[0;36m9\u001b[0m\u001b[0;34m)\u001b[0m\u001b[0;34m\u001b[0m\u001b[0;34m\u001b[0m\u001b[0m\n\u001b[0m\u001b[1;32m      5\u001b[0m \u001b[0mcompany_employees\u001b[0m \u001b[0;34m=\u001b[0m \u001b[0;34m[\u001b[0m\u001b[0mtemporary_secretary\u001b[0m\u001b[0;34m,\u001b[0m\u001b[0;34m]\u001b[0m\u001b[0;34m\u001b[0m\u001b[0;34m\u001b[0m\u001b[0m\n\u001b[1;32m      6\u001b[0m \u001b[0;34m\u001b[0m\u001b[0m\n",
      "\u001b[0;32m<ipython-input-18-7b1a1c9a0ac0>\u001b[0m in \u001b[0;36m__init__\u001b[0;34m(self, id, name, hours_worked, hours_rate)\u001b[0m\n\u001b[1;32m     17\u001b[0m     def __init__(self, id, name, hours_worked,\n\u001b[1;32m     18\u001b[0m                  hours_rate):\n\u001b[0;32m---> 19\u001b[0;31m         \u001b[0msuper\u001b[0m\u001b[0;34m(\u001b[0m\u001b[0;34m)\u001b[0m\u001b[0;34m.\u001b[0m\u001b[0m__init__\u001b[0m\u001b[0;34m(\u001b[0m\u001b[0mid\u001b[0m\u001b[0;34m,\u001b[0m \u001b[0mname\u001b[0m\u001b[0;34m)\u001b[0m\u001b[0;34m\u001b[0m\u001b[0;34m\u001b[0m\u001b[0m\n\u001b[0m\u001b[1;32m     20\u001b[0m         \u001b[0mself\u001b[0m\u001b[0;34m.\u001b[0m\u001b[0mhours_worked\u001b[0m \u001b[0;34m=\u001b[0m \u001b[0mhours_worked\u001b[0m\u001b[0;34m\u001b[0m\u001b[0;34m\u001b[0m\u001b[0m\n\u001b[1;32m     21\u001b[0m         \u001b[0mself\u001b[0m\u001b[0;34m.\u001b[0m\u001b[0mhours_rate\u001b[0m \u001b[0;34m=\u001b[0m \u001b[0mhours_rate\u001b[0m\u001b[0;34m\u001b[0m\u001b[0;34m\u001b[0m\u001b[0m\n",
      "\u001b[0;31mTypeError\u001b[0m: __init__() missing 1 required positional argument: 'weekly_salary'"
     ]
    }
   ],
   "source": [
    "class TemporarySecretary(HourlyEmployee, Secretary):\n",
    "    pass\n",
    "\n",
    "temporary_secretary = TemporarySecretary(5, 'Robin Williams', 40, 9)\n",
    "company_employees = [temporary_secretary,]\n",
    "\n",
    "productivity_system = ProductivitySystem()\n",
    "productivity_system.track(company_employees, 40)\n",
    "payroll_system = PayrollSystem()\n",
    "payroll_system.calculate_payroll(company_employees)"
   ]
  },
  {
   "cell_type": "markdown",
   "metadata": {},
   "source": [
    "Now it seems you are missing a weekly_salary parameter, which is necessary to initialize Secretary, but that parameter doesn’t make sense in the context of a TemporarySecretary because it’s an HourlyEmployee.\n",
    "\n",
    "Maybe implementing TemporarySecretary.__init__() will help:"
   ]
  },
  {
   "cell_type": "code",
   "execution_count": 26,
   "metadata": {},
   "outputs": [
    {
     "ename": "TypeError",
     "evalue": "__init__() missing 1 required positional argument: 'weekly_salary'",
     "output_type": "error",
     "traceback": [
      "\u001b[0;31m---------------------------------------------------------------------------\u001b[0m",
      "\u001b[0;31mTypeError\u001b[0m                                 Traceback (most recent call last)",
      "\u001b[0;32m<ipython-input-26-7b065929f653>\u001b[0m in \u001b[0;36m<module>\u001b[0;34m\u001b[0m\n\u001b[1;32m      3\u001b[0m         \u001b[0msuper\u001b[0m\u001b[0;34m(\u001b[0m\u001b[0;34m)\u001b[0m\u001b[0;34m.\u001b[0m\u001b[0m__init__\u001b[0m\u001b[0;34m(\u001b[0m\u001b[0mid\u001b[0m\u001b[0;34m,\u001b[0m \u001b[0mname\u001b[0m\u001b[0;34m,\u001b[0m \u001b[0mhours_worked\u001b[0m\u001b[0;34m,\u001b[0m \u001b[0mhour_rate\u001b[0m\u001b[0;34m)\u001b[0m\u001b[0;34m\u001b[0m\u001b[0;34m\u001b[0m\u001b[0m\n\u001b[1;32m      4\u001b[0m \u001b[0;34m\u001b[0m\u001b[0m\n\u001b[0;32m----> 5\u001b[0;31m \u001b[0mtemporary_secretary\u001b[0m \u001b[0;34m=\u001b[0m \u001b[0mTemporarySecretary\u001b[0m\u001b[0;34m(\u001b[0m\u001b[0;36m5\u001b[0m\u001b[0;34m,\u001b[0m \u001b[0;34m'Robin Williams'\u001b[0m\u001b[0;34m,\u001b[0m \u001b[0;36m40\u001b[0m\u001b[0;34m,\u001b[0m \u001b[0;36m9\u001b[0m\u001b[0;34m)\u001b[0m\u001b[0;34m\u001b[0m\u001b[0;34m\u001b[0m\u001b[0m\n\u001b[0m\u001b[1;32m      6\u001b[0m \u001b[0mcompany_employees\u001b[0m \u001b[0;34m=\u001b[0m \u001b[0;34m[\u001b[0m\u001b[0mtemporary_secretary\u001b[0m\u001b[0;34m,\u001b[0m\u001b[0;34m]\u001b[0m\u001b[0;34m\u001b[0m\u001b[0;34m\u001b[0m\u001b[0m\n\u001b[1;32m      7\u001b[0m \u001b[0;34m\u001b[0m\u001b[0m\n",
      "\u001b[0;32m<ipython-input-26-7b065929f653>\u001b[0m in \u001b[0;36m__init__\u001b[0;34m(self, id, name, hours_worked, hour_rate)\u001b[0m\n\u001b[1;32m      1\u001b[0m \u001b[0;32mclass\u001b[0m \u001b[0mTemporarySecretary\u001b[0m\u001b[0;34m(\u001b[0m\u001b[0mHourlyEmployee\u001b[0m\u001b[0;34m,\u001b[0m \u001b[0mSecretary\u001b[0m\u001b[0;34m)\u001b[0m\u001b[0;34m:\u001b[0m\u001b[0;34m\u001b[0m\u001b[0;34m\u001b[0m\u001b[0m\n\u001b[1;32m      2\u001b[0m     \u001b[0;32mdef\u001b[0m \u001b[0m__init__\u001b[0m\u001b[0;34m(\u001b[0m\u001b[0mself\u001b[0m\u001b[0;34m,\u001b[0m \u001b[0mid\u001b[0m\u001b[0;34m,\u001b[0m \u001b[0mname\u001b[0m\u001b[0;34m,\u001b[0m \u001b[0mhours_worked\u001b[0m\u001b[0;34m,\u001b[0m \u001b[0mhour_rate\u001b[0m\u001b[0;34m)\u001b[0m\u001b[0;34m:\u001b[0m\u001b[0;34m\u001b[0m\u001b[0;34m\u001b[0m\u001b[0m\n\u001b[0;32m----> 3\u001b[0;31m         \u001b[0msuper\u001b[0m\u001b[0;34m(\u001b[0m\u001b[0;34m)\u001b[0m\u001b[0;34m.\u001b[0m\u001b[0m__init__\u001b[0m\u001b[0;34m(\u001b[0m\u001b[0mid\u001b[0m\u001b[0;34m,\u001b[0m \u001b[0mname\u001b[0m\u001b[0;34m,\u001b[0m \u001b[0mhours_worked\u001b[0m\u001b[0;34m,\u001b[0m \u001b[0mhour_rate\u001b[0m\u001b[0;34m)\u001b[0m\u001b[0;34m\u001b[0m\u001b[0;34m\u001b[0m\u001b[0m\n\u001b[0m\u001b[1;32m      4\u001b[0m \u001b[0;34m\u001b[0m\u001b[0m\n\u001b[1;32m      5\u001b[0m \u001b[0mtemporary_secretary\u001b[0m \u001b[0;34m=\u001b[0m \u001b[0mTemporarySecretary\u001b[0m\u001b[0;34m(\u001b[0m\u001b[0;36m5\u001b[0m\u001b[0;34m,\u001b[0m \u001b[0;34m'Robin Williams'\u001b[0m\u001b[0;34m,\u001b[0m \u001b[0;36m40\u001b[0m\u001b[0;34m,\u001b[0m \u001b[0;36m9\u001b[0m\u001b[0;34m)\u001b[0m\u001b[0;34m\u001b[0m\u001b[0;34m\u001b[0m\u001b[0m\n",
      "\u001b[0;32m<ipython-input-18-7b1a1c9a0ac0>\u001b[0m in \u001b[0;36m__init__\u001b[0;34m(self, id, name, hours_worked, hours_rate)\u001b[0m\n\u001b[1;32m     17\u001b[0m     def __init__(self, id, name, hours_worked,\n\u001b[1;32m     18\u001b[0m                  hours_rate):\n\u001b[0;32m---> 19\u001b[0;31m         \u001b[0msuper\u001b[0m\u001b[0;34m(\u001b[0m\u001b[0;34m)\u001b[0m\u001b[0;34m.\u001b[0m\u001b[0m__init__\u001b[0m\u001b[0;34m(\u001b[0m\u001b[0mid\u001b[0m\u001b[0;34m,\u001b[0m \u001b[0mname\u001b[0m\u001b[0;34m)\u001b[0m\u001b[0;34m\u001b[0m\u001b[0;34m\u001b[0m\u001b[0m\n\u001b[0m\u001b[1;32m     20\u001b[0m         \u001b[0mself\u001b[0m\u001b[0;34m.\u001b[0m\u001b[0mhours_worked\u001b[0m \u001b[0;34m=\u001b[0m \u001b[0mhours_worked\u001b[0m\u001b[0;34m\u001b[0m\u001b[0;34m\u001b[0m\u001b[0m\n\u001b[1;32m     21\u001b[0m         \u001b[0mself\u001b[0m\u001b[0;34m.\u001b[0m\u001b[0mhours_rate\u001b[0m \u001b[0;34m=\u001b[0m \u001b[0mhours_rate\u001b[0m\u001b[0;34m\u001b[0m\u001b[0;34m\u001b[0m\u001b[0m\n",
      "\u001b[0;31mTypeError\u001b[0m: __init__() missing 1 required positional argument: 'weekly_salary'"
     ]
    }
   ],
   "source": [
    "class TemporarySecretary(HourlyEmployee, Secretary):\n",
    "    def __init__(self, id, name, hours_worked, hour_rate):\n",
    "        super().__init__(id, name, hours_worked, hour_rate)\n",
    "\n",
    "temporary_secretary = TemporarySecretary(5, 'Robin Williams', 40, 9)\n",
    "company_employees = [temporary_secretary,]\n",
    "\n",
    "productivity_system = ProductivitySystem()\n",
    "productivity_system.track(company_employees, 40)\n",
    "payroll_system = PayrollSystem()\n",
    "payroll_system.calculate_payroll(company_employees)"
   ]
  },
  {
   "cell_type": "markdown",
   "metadata": {},
   "source": [
    "That didn’t work either. Okay, it’s time for you to dive into Python’s **method resolution order (MRO)** to see what’s going on.\n",
    "\n",
    "When a method or attribute of a class is accessed, Python uses the class MRO to find it. The MRO is also used by super() to determine which method or attribute to invoke. You can learn more about super() in Supercharge \"Your Classes With Python super() by Hettinger\" https://realpython.com/python-super/.\n",
    "\n",
    "You can evaluate the TemporarySecretary class MRO using the interactive interpreter:\n",
    "\n"
   ]
  },
  {
   "cell_type": "code",
   "execution_count": 27,
   "metadata": {},
   "outputs": [
    {
     "data": {
      "text/plain": [
       "(__main__.TemporarySecretary,\n",
       " __main__.HourlyEmployee,\n",
       " __main__.Secretary,\n",
       " __main__.SalaryEmployee,\n",
       " __main__.Employee,\n",
       " object)"
      ]
     },
     "execution_count": 27,
     "metadata": {},
     "output_type": "execute_result"
    }
   ],
   "source": [
    "TemporarySecretary.__mro__"
   ]
  },
  {
   "cell_type": "markdown",
   "metadata": {},
   "source": [
    "The MRO shows the order in which Python is going to look for a matching attribute or method. In the example, this is what happens when we create the TemporarySecretary object:\n",
    "\n",
    "1. The TemporarySecretary._init_(self, id, name, hours_worked, hour_rate) method is called.\n",
    "\n",
    "2. The super()._init_(id, name, hours_worked, hour_rate) call matches HourlyEmployee._init_(self, id, name, hour_worked, hour_rate).\n",
    "\n",
    "3. HourlyEmployee calls super()._init_(id, name), which the MRO is going to match to Secretary._init_(), which is inherited from SalaryEmployee._init_(self, id, name, weekly_salary).\n",
    "\n",
    "Because the parameters don’t match, a TypeError exception is raised.\n",
    "\n",
    "**You can bypass the MRO by reversing the inheritance order and directly calling HourlyEmployee._init_() as follows:**"
   ]
  },
  {
   "cell_type": "code",
   "execution_count": 28,
   "metadata": {},
   "outputs": [
    {
     "name": "stdout",
     "output_type": "stream",
     "text": [
      "Tracking Employee Productivity\n",
      "==============================\n",
      "Robin Williams expends 40 hours doing office paperwork.\n",
      "\n",
      "Calculating Payroll\n",
      "===================\n",
      "Payroll for: 5 - Robin Williams\n"
     ]
    },
    {
     "ename": "AttributeError",
     "evalue": "'TemporarySecretary' object has no attribute 'weekly_salary'",
     "output_type": "error",
     "traceback": [
      "\u001b[0;31m---------------------------------------------------------------------------\u001b[0m",
      "\u001b[0;31mAttributeError\u001b[0m                            Traceback (most recent call last)",
      "\u001b[0;32m<ipython-input-28-ac86bf1bcee2>\u001b[0m in \u001b[0;36m<module>\u001b[0;34m\u001b[0m\n\u001b[1;32m      9\u001b[0m \u001b[0mproductivity_system\u001b[0m\u001b[0;34m.\u001b[0m\u001b[0mtrack\u001b[0m\u001b[0;34m(\u001b[0m\u001b[0mcompany_employees\u001b[0m\u001b[0;34m,\u001b[0m \u001b[0;36m40\u001b[0m\u001b[0;34m)\u001b[0m\u001b[0;34m\u001b[0m\u001b[0;34m\u001b[0m\u001b[0m\n\u001b[1;32m     10\u001b[0m \u001b[0mpayroll_system\u001b[0m \u001b[0;34m=\u001b[0m \u001b[0mPayrollSystem\u001b[0m\u001b[0;34m(\u001b[0m\u001b[0;34m)\u001b[0m\u001b[0;34m\u001b[0m\u001b[0;34m\u001b[0m\u001b[0m\n\u001b[0;32m---> 11\u001b[0;31m \u001b[0mpayroll_system\u001b[0m\u001b[0;34m.\u001b[0m\u001b[0mcalculate_payroll\u001b[0m\u001b[0;34m(\u001b[0m\u001b[0mcompany_employees\u001b[0m\u001b[0;34m)\u001b[0m\u001b[0;34m\u001b[0m\u001b[0;34m\u001b[0m\u001b[0m\n\u001b[0m",
      "\u001b[0;32m<ipython-input-8-2576e6d5b86c>\u001b[0m in \u001b[0;36mcalculate_payroll\u001b[0;34m(self, employees)\u001b[0m\n\u001b[1;32m      7\u001b[0m         \u001b[0;32mfor\u001b[0m \u001b[0memployee\u001b[0m \u001b[0;32min\u001b[0m \u001b[0memployees\u001b[0m\u001b[0;34m:\u001b[0m\u001b[0;34m\u001b[0m\u001b[0;34m\u001b[0m\u001b[0m\n\u001b[1;32m      8\u001b[0m             \u001b[0mprint\u001b[0m\u001b[0;34m(\u001b[0m\u001b[0;34mf'Payroll for: {employee.id} - {employee.name}'\u001b[0m\u001b[0;34m)\u001b[0m\u001b[0;34m\u001b[0m\u001b[0;34m\u001b[0m\u001b[0m\n\u001b[0;32m----> 9\u001b[0;31m             \u001b[0mprint\u001b[0m\u001b[0;34m(\u001b[0m\u001b[0;34mf'- Check amount: {employee.calculate_payroll()}'\u001b[0m\u001b[0;34m)\u001b[0m\u001b[0;34m\u001b[0m\u001b[0;34m\u001b[0m\u001b[0m\n\u001b[0m\u001b[1;32m     10\u001b[0m             \u001b[0mprint\u001b[0m\u001b[0;34m(\u001b[0m\u001b[0;34m''\u001b[0m\u001b[0;34m)\u001b[0m\u001b[0;34m\u001b[0m\u001b[0;34m\u001b[0m\u001b[0m\n",
      "\u001b[0;32m<ipython-input-18-7b1a1c9a0ac0>\u001b[0m in \u001b[0;36mcalculate_payroll\u001b[0;34m(self)\u001b[0m\n\u001b[1;32m     12\u001b[0m \u001b[0;34m\u001b[0m\u001b[0m\n\u001b[1;32m     13\u001b[0m     \u001b[0;32mdef\u001b[0m \u001b[0mcalculate_payroll\u001b[0m\u001b[0;34m(\u001b[0m\u001b[0mself\u001b[0m\u001b[0;34m)\u001b[0m\u001b[0;34m:\u001b[0m\u001b[0;34m\u001b[0m\u001b[0;34m\u001b[0m\u001b[0m\n\u001b[0;32m---> 14\u001b[0;31m         \u001b[0;32mreturn\u001b[0m \u001b[0mself\u001b[0m\u001b[0;34m.\u001b[0m\u001b[0mweekly_salary\u001b[0m\u001b[0;34m\u001b[0m\u001b[0;34m\u001b[0m\u001b[0m\n\u001b[0m\u001b[1;32m     15\u001b[0m \u001b[0;34m\u001b[0m\u001b[0m\n\u001b[1;32m     16\u001b[0m \u001b[0;32mclass\u001b[0m \u001b[0mHourlyEmployee\u001b[0m\u001b[0;34m(\u001b[0m\u001b[0mEmployee\u001b[0m\u001b[0;34m)\u001b[0m\u001b[0;34m:\u001b[0m\u001b[0;34m\u001b[0m\u001b[0;34m\u001b[0m\u001b[0m\n",
      "\u001b[0;31mAttributeError\u001b[0m: 'TemporarySecretary' object has no attribute 'weekly_salary'"
     ]
    }
   ],
   "source": [
    "class TemporarySecretary(Secretary, HourlyEmployee):\n",
    "    def __init__(self, id, name, hours_worked, hour_rate):\n",
    "        HourlyEmployee.__init__(self, id, name, hours_worked, hour_rate)\n",
    "        \n",
    "temporary_secretary = TemporarySecretary(5, 'Robin Williams', 40, 9)\n",
    "company_employees = [temporary_secretary,]\n",
    "\n",
    "productivity_system = ProductivitySystem()\n",
    "productivity_system.track(company_employees, 40)\n",
    "payroll_system = PayrollSystem()\n",
    "payroll_system.calculate_payroll(company_employees)"
   ]
  },
  {
   "cell_type": "code",
   "execution_count": 29,
   "metadata": {},
   "outputs": [
    {
     "data": {
      "text/plain": [
       "(__main__.TemporarySecretary,\n",
       " __main__.Secretary,\n",
       " __main__.SalaryEmployee,\n",
       " __main__.HourlyEmployee,\n",
       " __main__.Employee,\n",
       " object)"
      ]
     },
     "execution_count": 29,
     "metadata": {},
     "output_type": "execute_result"
    }
   ],
   "source": [
    "TemporarySecretary.__mro__"
   ]
  },
  {
   "cell_type": "markdown",
   "metadata": {},
   "source": [
    "The problem now is that because you reversed the inheritance order, the MRO is finding the .calculate_payroll() method of SalariedEmployee before the one in HourlyEmployee. You need to override .calculate_payroll() in TemporarySecretary and invoke the right implementation from it:"
   ]
  },
  {
   "cell_type": "code",
   "execution_count": 30,
   "metadata": {},
   "outputs": [
    {
     "name": "stdout",
     "output_type": "stream",
     "text": [
      "Tracking Employee Productivity\n",
      "==============================\n",
      "Robin Williams expends 40 hours doing office paperwork.\n",
      "\n",
      "Calculating Payroll\n",
      "===================\n",
      "Payroll for: 5 - Robin Williams\n",
      "- Check amount: 360\n",
      "\n"
     ]
    }
   ],
   "source": [
    "class TemporarySecretary(Secretary, HourlyEmployee):\n",
    "    def __init__(self, id, name, hours_worked, hour_rate):\n",
    "        HourlyEmployee.__init__(self, id, name, \n",
    "                                hours_worked, hour_rate)\n",
    "    \n",
    "    def calculate_payroll(self):\n",
    "        return HourlyEmployee.calculate_payroll(self)\n",
    "    \n",
    "temporary_secretary = TemporarySecretary(5, 'Robin Williams', 40, 9)\n",
    "company_employees = [temporary_secretary,]\n",
    "\n",
    "productivity_system = ProductivitySystem()\n",
    "productivity_system.track(company_employees, 40)\n",
    "payroll_system = PayrollSystem()\n",
    "payroll_system.calculate_payroll(company_employees)"
   ]
  },
  {
   "cell_type": "markdown",
   "metadata": {},
   "source": [
    "The calculate_payroll() method directly invokes HourlyEmployee.calculate_payroll() to ensure that you get the correct result.\n",
    "\n",
    "The program now works as expected because you’re forcing the method resolution order by explicitly telling the interpreter which method we want to use.\n",
    "\n",
    "As you can see, multiple inheritance can be confusing, especially when you run into the diamond problem.\n",
    "\n",
    "The following diagram shows the diamond problem in your class hierarchy:\n",
    "\n",
    "<img src=\"pics/5.png\" alt=\"Schema\"  width='500'/>"
   ]
  },
  {
   "cell_type": "markdown",
   "metadata": {},
   "source": [
    "The diagram shows the diamond problem with the current class design. TemporarySecretary uses multiple inheritance to derive from two classes that ultimately also derive from Employee. This causes two paths to reach the Employee base class, which is something you want to avoid in your designs.\n",
    "\n",
    "The diamond problem appears when you’re using multiple inheritance and deriving from two classes that have a common base class. This can cause the wrong version of a method to be called.\n",
    "\n",
    "As you’ve seen, Python provides a way to force the right method to be invoked, and analyzing the MRO can help you understand the problem.\n",
    "\n",
    "Still, when you run into the diamond problem, it’s better to re-think the design. You will now make some changes to leverage multiple inheritance, avoiding the diamond problem.\n",
    "\n",
    "The Employee derived classes are used by two different systems:\n",
    "\n",
    "1. The productivity system that tracks employee productivity.\n",
    "\n",
    "2. The payroll system that calculates the employee payroll.\n",
    "\n",
    "This means that everything related to productivity should be together in one module and everything related to payroll should be together in another. You can start making changes to the productivity module:"
   ]
  },
  {
   "cell_type": "code",
   "execution_count": 31,
   "metadata": {},
   "outputs": [],
   "source": [
    "# in productivity.py\n",
    "\n",
    "class ProductivitySystem:\n",
    "    def track(self, employees, hours):\n",
    "        print('Tracking Employee Productivity')\n",
    "        print('==============================')\n",
    "        for employee in employees:\n",
    "            result = employee.work(hours)\n",
    "            print(f'{employee.name}: {result}')\n",
    "        print('')\n",
    "\n",
    "class ManagerRole:\n",
    "    def work(self, hours):\n",
    "        return f'screams and yells for {hours} hours.'\n",
    "    \n",
    "class SecretaryRole:\n",
    "    def work(self, hours):\n",
    "        return f'expends {hours} hours doing office paperwork.'\n",
    "\n",
    "class SalesRole:\n",
    "    def work(self, hours):\n",
    "        return f'expends {hours} hours on the phone.'\n",
    "\n",
    "class FactoryRole:\n",
    "    def work(self, hours):\n",
    "        return f'manufactures gadgets for {hours} hours'"
   ]
  },
  {
   "cell_type": "markdown",
   "metadata": {},
   "source": [
    "The productivity module implements the ProductivitySystem class, as well as the related roles it supports. The classes implement the work() interface required by the system, but they don't derive from Employee.\n",
    "\n",
    "The same can be done with hr module:"
   ]
  },
  {
   "cell_type": "code",
   "execution_count": 32,
   "metadata": {},
   "outputs": [],
   "source": [
    "# in hr.py\n",
    "\n",
    "class PayrollSystem:\n",
    "    def calculate_payroll(self, employees):\n",
    "        print('Calculating Payroll')\n",
    "        print('====================')\n",
    "        for employee in employees:\n",
    "            print(f'Payroll for: {employee.id} - {employee.name}')\n",
    "            print(f'- Check amount: {employee.calculate_payroll()}\\n')\n",
    "            \n",
    "class SalaryPolicy:\n",
    "    def __init__(self, weekly_salary):\n",
    "        self.weekly_salary = weekly_salary\n",
    "        \n",
    "    def calculate_payroll(self):\n",
    "        return self.weekly_salary\n",
    "    \n",
    "class HourlyPolicy:\n",
    "    def __init__(self, hours_worked, hour_rate):\n",
    "        self.hours_worked = hours_worked\n",
    "        self.hour_rate = hour_rate\n",
    "        \n",
    "    def calculate_payroll(self):\n",
    "        return self.hours_worked * self.hour_rate\n",
    "    \n",
    "class CommissionPolicy(SalaryPolicy):\n",
    "    def __init__(self, weekly_salary, comission):\n",
    "        super().__init__(weekly_salary)\n",
    "        self.comission = comission\n",
    "        \n",
    "    def calculate_payroll(self):\n",
    "        fixed = super.calculate_payroll()\n",
    "        return fixed + self.comission"
   ]
  },
  {
   "cell_type": "markdown",
   "metadata": {},
   "source": [
    "The hr module implements the PayrollSystem, which calculates payroll for employees. It also implements the police classes for payroll. Policy classes don't derive from Employee anymore. "
   ]
  },
  {
   "cell_type": "code",
   "execution_count": 33,
   "metadata": {},
   "outputs": [],
   "source": [
    "# In employees.py\n",
    "\n",
    "# from hr import (\n",
    "#     SalaryPolicy,\n",
    "#     CommissionPolicy,\n",
    "#     HourlyPolicy\n",
    "# )\n",
    "# from productivity import (\n",
    "#     ManagerRole,\n",
    "#     SecretaryRole,\n",
    "#     SalesRole,\n",
    "#     FactoryRole\n",
    "# )\n",
    "\n",
    "class Employee:\n",
    "    def __init__(self, id, name):\n",
    "        self.id = id\n",
    "        self.name = name\n",
    "        \n",
    "class Manager(Employee, ManagerRole, SalaryPolicy):\n",
    "    def __init(self, id, name, weekly_salary):\n",
    "        SalaryPolicy.__init__(self, weekly_salary)\n",
    "        super().__init__(id, name)"
   ]
  },
  {
   "cell_type": "code",
   "execution_count": 34,
   "metadata": {},
   "outputs": [
    {
     "data": {
      "text/plain": [
       "(__main__.Manager,\n",
       " __main__.Employee,\n",
       " __main__.ManagerRole,\n",
       " __main__.SalaryPolicy,\n",
       " object)"
      ]
     },
     "execution_count": 34,
     "metadata": {},
     "output_type": "execute_result"
    }
   ],
   "source": [
    "Manager.__mro__"
   ]
  },
  {
   "cell_type": "code",
   "execution_count": 35,
   "metadata": {},
   "outputs": [
    {
     "data": {
      "text/plain": [
       "(__main__.TemporarySecretary,\n",
       " __main__.Employee,\n",
       " __main__.SecretaryRole,\n",
       " __main__.HourlyPolicy,\n",
       " object)"
      ]
     },
     "execution_count": 35,
     "metadata": {},
     "output_type": "execute_result"
    }
   ],
   "source": [
    "class Secretary(Employee, SecretaryRole, SalaryPolicy):\n",
    "    def __init__(self, id, name, weekly_salary):\n",
    "        SalaryPolicy.__init__(self, weekly_salary)\n",
    "        super().__init__(id, name)\n",
    "        \n",
    "class SalesPerson(Employee, SalesRole, CommissionPolicy):\n",
    "    def __init__(self, id, name, weekly_salary, commission):\n",
    "        CommissionPolicy.__init__(self, weekly_salary, commission)\n",
    "        super().__init__(id, name)\n",
    "\n",
    "class FactoryWorker(Employee, FactoryRole, HourlyPolicy):\n",
    "    def __init__(self, id, name, hours_worked, hour_rate):\n",
    "        HourlyPolicy.__init__(self, hours_worked, hour_rate)\n",
    "        super().__init__(id, name)\n",
    "\n",
    "class TemporarySecretary(Employee, SecretaryRole, HourlyPolicy):\n",
    "    def __init__(self, id, name, hours_worked, hour_rate):\n",
    "        HourlyPolicy.__init__(self, hours_worked, hour_rate)\n",
    "        super().__init__(id, name)\n",
    "        \n",
    "TemporarySecretary.__mro__"
   ]
  },
  {
   "cell_type": "markdown",
   "metadata": {},
   "source": [
    "The employees module imports policies and roles from the other modules and implements the different Employee types. You are still using multiple inheritance to inherit the implementation of the salary policy classes and the productivity roles, but the implementation of each class only needs to deal with initialization.\n",
    "\n",
    "**Notice** that you still need to explicitly initialize the salary policies in the constructors. You probably saw that the initializations of Manager and Secretary are identical. Also, the initializations of FactoryWorker and TemporarySecretary are the same.\n",
    "\n",
    "You will not want to have this kind of code duplication in more complex designs, so you have to be careful when designing class hierarchies.\n",
    "\n",
    "Here’s the UML diagram for the new design:\n",
    "<img src=\"pics/6.png\" alt=\"Schema\"  width='700'/>"
   ]
  },
  {
   "cell_type": "markdown",
   "metadata": {},
   "source": [
    "Important Note: this diagram does not make any sense to me)"
   ]
  },
  {
   "cell_type": "code",
   "execution_count": 36,
   "metadata": {},
   "outputs": [
    {
     "name": "stdout",
     "output_type": "stream",
     "text": [
      "Tracking Employee Productivity\n",
      "==============================\n",
      "Robin Williams: expends 40 hours doing office paperwork.\n",
      "\n",
      "Calculating Payroll\n",
      "====================\n",
      "Payroll for: 5 - Robin Williams\n",
      "- Check amount: 360\n",
      "\n"
     ]
    }
   ],
   "source": [
    "temporary_secretary = TemporarySecretary(5, 'Robin Williams', 40, 9)\n",
    "company_employees = [temporary_secretary,]\n",
    "\n",
    "productivity_system = ProductivitySystem()\n",
    "productivity_system.track(company_employees, 40)\n",
    "payroll_system = PayrollSystem()\n",
    "payroll_system.calculate_payroll(company_employees)"
   ]
  },
  {
   "cell_type": "markdown",
   "metadata": {},
   "source": [
    "You’ve seen how inheritance and multiple inheritance work in Python. You can now explore the topic of composition."
   ]
  },
  {
   "cell_type": "markdown",
   "metadata": {},
   "source": [
    "### More notes on super and multiple inheritance\n",
    "https://www.datacamp.com/community/tutorials/super-multiple-inheritance-diamond-problem"
   ]
  },
  {
   "cell_type": "code",
   "execution_count": 49,
   "metadata": {},
   "outputs": [
    {
     "name": "stdout",
     "output_type": "stream",
     "text": [
      "I am a child\n",
      "I am a parent\n",
      "Back in my day...\n"
     ]
    }
   ],
   "source": [
    "class Parent:\n",
    "    def __init__(self):\n",
    "        self.parent_attribute = 'I am a parent'\n",
    "    \n",
    "    def parent_method(self):\n",
    "        print('Back in my day...')\n",
    "        \n",
    "# create a Child class that inherits from Parent\n",
    "class Child(Parent):\n",
    "    def __init__(self):\n",
    "        Parent.__init__(self)\n",
    "        self.child_attribute = 'I am a child'\n",
    "        \n",
    "child = Child()\n",
    "\n",
    "print(child.child_attribute)\n",
    "print(child.parent_attribute)\n",
    "child.parent_method()"
   ]
  },
  {
   "cell_type": "code",
   "execution_count": 41,
   "metadata": {},
   "outputs": [
    {
     "data": {
      "text/plain": [
       "['__class__',\n",
       " '__delattr__',\n",
       " '__dict__',\n",
       " '__dir__',\n",
       " '__doc__',\n",
       " '__eq__',\n",
       " '__format__',\n",
       " '__ge__',\n",
       " '__getattribute__',\n",
       " '__gt__',\n",
       " '__hash__',\n",
       " '__init__',\n",
       " '__init_subclass__',\n",
       " '__le__',\n",
       " '__lt__',\n",
       " '__module__',\n",
       " '__ne__',\n",
       " '__new__',\n",
       " '__reduce__',\n",
       " '__reduce_ex__',\n",
       " '__repr__',\n",
       " '__setattr__',\n",
       " '__sizeof__',\n",
       " '__str__',\n",
       " '__subclasshook__',\n",
       " '__weakref__',\n",
       " 'child_attribute',\n",
       " 'parent_attribute',\n",
       " 'parent_method']"
      ]
     },
     "execution_count": 41,
     "metadata": {},
     "output_type": "execute_result"
    }
   ],
   "source": [
    "dir(child)"
   ]
  },
  {
   "cell_type": "markdown",
   "metadata": {},
   "source": [
    "The Child inherited attributed and methods from the Parent class. Without aney work on our part, the Parent.parent_method became a part of the Child class. To get the benefits of the Parent._init_() method we needed to explicitly call the method and pass self. This is because when we added and _init_ method to Child, we overwrote the inherited _init_.\n",
    "\n",
    "In the simplest case, the **super** functions can be used to replace the explicit call to Parent._init_(self). Our intro example from the first section can be rewritten with **super** as seen below. "
   ]
  },
  {
   "cell_type": "code",
   "execution_count": 50,
   "metadata": {},
   "outputs": [
    {
     "name": "stdout",
     "output_type": "stream",
     "text": [
      "I am a child\n",
      "I am a parent\n",
      "Back in my day...\n"
     ]
    }
   ],
   "source": [
    "class Parent:\n",
    "    def __init__(self):\n",
    "        self.parent_attribute = 'I am a parent'\n",
    "    \n",
    "    def parent_method(self):\n",
    "        print('I am a parent')\n",
    "        \n",
    "class Child(Parent):\n",
    "    def __init__(self):\n",
    "        super().__init__()\n",
    "        # instead of Parent.__init__(self)\n",
    "        self.child_attribute = 'I am a child'\n",
    "        \n",
    "print(child.child_attribute)\n",
    "print(child.parent_attribute)\n",
    "child.parent_method()"
   ]
  },
  {
   "cell_type": "markdown",
   "metadata": {},
   "source": [
    "In this case super gives little, if any, advantage. Depending on the name of the parent class we meight save some keystrokes, and we don't have to pass self to the call to _init_. \n",
    "\n",
    "- Cons: super makes the code less explicit. Making code less explicit violates The Zen of Python\n",
    "- Pros: there is a maintainability argument that can be made for super even in single inheritance. If for whatever reason your child class changes its inheritance pattern (i.e., parent class changes or there's a shift to multiple inheritance) then there's no need find and replace all the lingering references to ParentClass.method_name(); the use of super will allow all the changes to flow through with the change in the class statement."
   ]
  },
  {
   "cell_type": "markdown",
   "metadata": {},
   "source": [
    "##### mote exploration needed here but for now will move into composition"
   ]
  },
  {
   "cell_type": "markdown",
   "metadata": {},
   "source": [
    "## Composition in Python\n",
    "\n",
    "Composition is an object oriented design concept that models a **has a** relationship. In composition, a class known as composite contains an object of another class known to as component. In other words, a composite class **has a** component of another class.\n",
    "\n",
    "Composition allows composite classes to reuse the implementation of the components it contains. The composite class doesn’t inherit the component class interface, but it can leverage its implementation.\n",
    "\n",
    "The composition relation between two classes is considered _loosely coupled_. That means that changes to the component class rarely affect the composite class, and changes to the composite class never affect the component class.\n",
    "\n",
    "This provides better adaptability to change and allows applications to introduce new requirements without affecting existing code.\n",
    "\n",
    "When looking at two competing software designs, one based on inheritance and another based on composition, the composition solution usually is the most flexible. You can now look at how composition works.\n",
    "\n",
    "You’ve already used composition in our examples. If you look at the Employee class, you’ll see that it contains two attributes:\n",
    "\n",
    "- id to identify an employee.\n",
    "- name to contain the name of the employee.\n",
    "\n",
    "These two attributes are objects that the Employee class has. Therefore, you can say that an Employee has an id and has a name.\n",
    "\n",
    "Another attribute for an Employee might be an Address:"
   ]
  },
  {
   "cell_type": "code",
   "execution_count": 54,
   "metadata": {},
   "outputs": [],
   "source": [
    "# in contacts.py\n",
    "\n",
    "class Address:\n",
    "    def __init__(self, street, city, state,\n",
    "                 zipcode, street2=''):\n",
    "        self.street = street\n",
    "        self.street2 = street2\n",
    "        self.city = city\n",
    "        self.state = state\n",
    "        self.zipcode = zipcode\n",
    "    def __str__(self):\n",
    "    # __str__ data model method contains nicely printable\n",
    "    # string representation of an object    \n",
    "        lines = [self.street]\n",
    "        if self.street2:\n",
    "            lines.append(self.street2)\n",
    "        lines.append(f'{self.city}, {self.state} {self.zipcode}')\n",
    "        return '\\n'.join(lines)"
   ]
  },
  {
   "cell_type": "markdown",
   "metadata": {},
   "source": [
    "We implemented a basic address class that contains the usual components for an address. We made the street2 attribute optional because not all addresses will have that component.\n",
    "\n",
    "We implemented _str_() to provide a pretty representation of ad Address."
   ]
  },
  {
   "cell_type": "code",
   "execution_count": 55,
   "metadata": {},
   "outputs": [
    {
     "name": "stdout",
     "output_type": "stream",
     "text": [
      "55 Main St.\n",
      "Concord, NH 03301\n"
     ]
    }
   ],
   "source": [
    "address = Address('55 Main St.', 'Concord', 'NH', '03301')\n",
    "print(address)"
   ]
  },
  {
   "cell_type": "markdown",
   "metadata": {},
   "source": [
    "When you print() the address variable, the special method __str__() is invoked. Since you overloaded the method to return a string formatted as an address, you get a nice, readable representation. Operator and Function Overloading in Custom Python Classes gives a good overview of the special methods available in classes that can be implemented to customize the behavior of your objects.\n",
    "\n",
    "https://realpython.com/operator-function-overloading/\n",
    "\n",
    "You can now add the Address to the Employee class through composition:"
   ]
  },
  {
   "cell_type": "code",
   "execution_count": 56,
   "metadata": {},
   "outputs": [],
   "source": [
    "# in employees.py\n",
    "\n",
    "class Employee:\n",
    "    def __init__(self, id, name):\n",
    "        self.id = id\n",
    "        self.name = name\n",
    "        self.address = None"
   ]
  },
  {
   "cell_type": "markdown",
   "metadata": {},
   "source": [
    "We initialize the address attribute to None for now to make it optional, but by doing that you can now assign and Address to an Employee. Also notice that there is no reference in the employee module to the contacts module.\n",
    "\n",
    "Composition is a loosely coupled relationship that often doesn't require the composite class to have knowledge of the component.\n",
    "\n",
    "The UML diagram representing the relationship btw Employee and Address looks like this:\n",
    "\n",
    "<img src=\"pics/7.png\" alt=\"Schema\"  width='220'/>"
   ]
  },
  {
   "cell_type": "markdown",
   "metadata": {},
   "source": [
    "The diagram shows the basic composition relationship between Employee and Address.\n",
    "\n",
    "We can now modify the PayrollSystem class to leverage the address attribute in Employee:"
   ]
  },
  {
   "cell_type": "code",
   "execution_count": 57,
   "metadata": {},
   "outputs": [],
   "source": [
    "class PayrollSystem:\n",
    "    def calculate_payroll(self, employees):\n",
    "        print('Calculating Payroll')\n",
    "        print('===================')\n",
    "        for employee in employees:\n",
    "            print(f'Payroll for: {employee.id} - {employee.name}')\n",
    "            print(f'- Check amount: {employee.calculate_payroll()}')\n",
    "            if employee.address:\n",
    "                print('- Sent to:')\n",
    "                print(employee.address)\n",
    "            print('')"
   ]
  },
  {
   "cell_type": "markdown",
   "metadata": {},
   "source": [
    "We check to see if the employee object has an address, and if it does, you print it."
   ]
  },
  {
   "cell_type": "markdown",
   "metadata": {},
   "source": [
    "#### Flexible Designs With Composition\n",
    "Composition is more flexible than inheritance because it models a loosely coupled relationship. Changes to a component class have minimal or no effects on the composite class. Designs based on composition are more suitable to change.\n",
    "\n",
    "You change behavior by providing new components that implement those behaviors instead of adding new classes to your hierarchy.\n",
    "\n",
    "Take a look at the multiple inheritance example above. Imagine how new payroll policies will affect the design. Try to picture what the class hierarchy will look like if new roles are needed. As you saw before, relying too heavily on inheritance can lead to class explosion.\n",
    "\n",
    "The biggest problem is not so much the number of classes in your design, but how tightly coupled the relationships between those classes are. Tightly coupled classes affect each other when changes are introduced.\n",
    "\n",
    "In this section, you are going to use composition to implement a better design that still fits the requirements of the PayrollSystem and the ProductivitySystem.\n",
    "\n",
    "You can start by implementing the functionality of the ProductivitySystem:"
   ]
  },
  {
   "cell_type": "code",
   "execution_count": 59,
   "metadata": {},
   "outputs": [],
   "source": [
    "class ProductivitySystem:\n",
    "    def __init__(self):\n",
    "        self._roles = {\n",
    "            'manager': ManagerRole,\n",
    "            'secretary': SecretaryRole,\n",
    "            'sales': SalesRole,\n",
    "            'factory': FactoryRole,\n",
    "        }\n",
    "    \n",
    "    def get_role(self, role_id):\n",
    "        role_type = self._roles.get(role_id)\n",
    "        if not role_type:\n",
    "            raise ValueError('role_id')\n",
    "        return role_type()\n",
    "    \n",
    "    def track(self, employees, hours):\n",
    "        print('Tracking Employee Productivity')\n",
    "        print('==============================')\n",
    "        for employee in employees:\n",
    "            employee.work(hours)\n",
    "        print('')"
   ]
  },
  {
   "cell_type": "markdown",
   "metadata": {},
   "source": [
    "The ProductivitySystem class defines some roles using a string identifier mapped to a role class that implements that role. It exposes a .get_role() method that, given a role identifier, returns the role type object. If the role in not found, the a ValueError exception is raised.\n",
    "\n",
    "It also exposes the previous functionality in the .track() method, where given a list of employees it tracks the productivity of those employees."
   ]
  },
  {
   "cell_type": "code",
   "execution_count": 60,
   "metadata": {},
   "outputs": [],
   "source": [
    "# In productivity.py\n",
    "\n",
    "class ManagerRole:\n",
    "    def perform_duties(self, hours):\n",
    "        return f'screams and yells for {hours} hours.'\n",
    "\n",
    "class SecretaryRole:\n",
    "    def perform_duties(self, hours):\n",
    "        return f'does paperwork for {hours} hours.'\n",
    "\n",
    "class SalesRole:\n",
    "    def perform_duties(self, hours):\n",
    "        return f'expends {hours} hours on the phone.'\n",
    "\n",
    "class FactoryRole:\n",
    "    def perform_duties(self, hours):\n",
    "        return f'manufactures gadgets for {hours} hours.'"
   ]
  },
  {
   "cell_type": "markdown",
   "metadata": {},
   "source": [
    "Each of the roles you implemented expose a .perform_duties() that takes the number of hours worked. The methods return a string representing the duties.\n",
    "\n",
    "The role classes are independent of each other, but they expose the same interface, so they are interchangeable."
   ]
  },
  {
   "cell_type": "code",
   "execution_count": 61,
   "metadata": {},
   "outputs": [],
   "source": [
    "class PayrollSystem:\n",
    "    def __init__(self):\n",
    "        self._employee_policies = {\n",
    "            1: SalaryPolicy(3000),\n",
    "            2: SalaryPolicy(1500),\n",
    "            3: CommissionPolicy(1000, 100),\n",
    "            4: HourlyPolicy(15),\n",
    "            5: HourlyPolicy(9)\n",
    "        }\n",
    "\n",
    "    def get_policy(self, employee_id):\n",
    "        policy = self._employee_policies.get(employee_id)\n",
    "        if not policy:\n",
    "            return ValueError(employee_id)\n",
    "        return policy\n",
    "\n",
    "    def calculate_payroll(self, employees):\n",
    "        print('Calculating Payroll')\n",
    "        print('===================')\n",
    "        for employee in employees:\n",
    "            print(f'Payroll for: {employee.id} - {employee.name}')\n",
    "            print(f'- Check amount: {employee.calculate_payroll()}')\n",
    "            if employee.address:\n",
    "                print('- Sent to:')\n",
    "                print(employee.address)\n",
    "            print('')"
   ]
  },
  {
   "cell_type": "markdown",
   "metadata": {},
   "source": [
    "The PayrollSystem keeps an internal database of payroll policies for each employee. It exposes a .get_policy() that, given an employee id, returns its payroll policy. If a specified id doesn’t exist in the system, then the method raises a ValueError exception.\n",
    "\n",
    "The implementation of .calculate_payroll() works the same as before. It takes a list of employees, calculates the payroll, and prints the results."
   ]
  },
  {
   "cell_type": "code",
   "execution_count": 62,
   "metadata": {},
   "outputs": [],
   "source": [
    "class PayrollPolicy:\n",
    "    def __init__(self):\n",
    "        self.hours_worked = 0\n",
    "\n",
    "    def track_work(self, hours):\n",
    "        self.hours_worked += hours\n",
    "\n",
    "class SalaryPolicy(PayrollPolicy):\n",
    "    def __init__(self, weekly_salary):\n",
    "        super().__init__()\n",
    "        self.weekly_salary = weekly_salary\n",
    "\n",
    "    def calculate_payroll(self):\n",
    "        return self.weekly_salary\n",
    "\n",
    "class HourlyPolicy(PayrollPolicy):\n",
    "    def __init__(self, hour_rate):\n",
    "        super().__init__()\n",
    "        self.hour_rate = hour_rate\n",
    "\n",
    "    def calculate_payroll(self):\n",
    "        return self.hours_worked * self.hour_rate\n",
    "\n",
    "class CommissionPolicy(SalaryPolicy):\n",
    "    def __init__(self, weekly_salary, commission_per_sale):\n",
    "        super().__init__(weekly_salary)\n",
    "        self.commission_per_sale = commission_per_sale\n",
    "\n",
    "    @property\n",
    "    def commission(self):\n",
    "        sales = self.hours_worked / 5\n",
    "        return sales * self.commission_per_sale\n",
    "\n",
    "    def calculate_payroll(self):\n",
    "        fixed = super().calculate_payroll()\n",
    "        return fixed + self.commission"
   ]
  },
  {
   "cell_type": "markdown",
   "metadata": {},
   "source": [
    "You first implement a PayrollPolicy class that serves as a base class for all the payroll policies. This class tracks the hours_worked, which is common to all payroll policies.\n",
    "\n",
    "The other policy classes derive from PayrollPolicy. We use inheritance here because we want to leverage the implementation of PayrollPolicy. Also, SalaryPolicy, HourlyPolicy, and CommissionPolicy are a PayrollPolicy.\n",
    "\n",
    "SalaryPolicy is initialized with a weekly_salary value that is then used in .calculate_payroll(). HourlyPolicy is initialized with the hour_rate, and implements .calculate_payroll() by leveraging the base class hours_worked.\n",
    "\n",
    "The CommissionPolicy class derives from SalaryPolicy because it wants to inherit its implementation. It is initialized with the weekly_salary parameters, but it also requires a commission_per_sale parameter.\n",
    "\n",
    "The commission_per_sale is used to calculate the .commission, which is implemented as a **property so it gets calculated when requested**. In the example, we are assuming that a sale happens every 5 hours worked, and the .commission is the number of sales times the commission_per_sale value.\n",
    "\n",
    "CommissionPolicy implements the .calculate_payroll() method by first leveraging the implementation in SalaryPolicy and then adding the calculated commission.\n",
    "\n",
    "You can now add an AddressBook class to manage employee addresses:"
   ]
  },
  {
   "cell_type": "code",
   "execution_count": 63,
   "metadata": {},
   "outputs": [],
   "source": [
    "class AddressBook:\n",
    "    def __init__(self):\n",
    "        self._employee_addresses = {\n",
    "            1: Address('121 Admin Rd.', 'Concord', 'NH', '03301'),\n",
    "            2: Address('67 Paperwork Ave', 'Manchester', 'NH', '03101'),\n",
    "            3: Address('15 Rose St', 'Concord', 'NH', '03301', 'Apt. B-1'),\n",
    "            4: Address('39 Sole St.', 'Concord', 'NH', '03301'),\n",
    "            5: Address('99 Mountain Rd.', 'Concord', 'NH', '03301'),\n",
    "        }\n",
    "\n",
    "    def get_employee_address(self, employee_id):\n",
    "        address = self._employee_addresses.get(employee_id)\n",
    "        if not address:\n",
    "            raise ValueError(employee_id)\n",
    "        return address"
   ]
  },
  {
   "cell_type": "markdown",
   "metadata": {},
   "source": [
    "The AddressBook class keeps an internal database of Address objects for each employee. It exposes a get_employee_address() method that returns the address of the specified employee id. If the employee id doesn’t exist, then it raises a ValueError.\n",
    "\n",
    "The Address class implementation remains the same as before:"
   ]
  },
  {
   "cell_type": "code",
   "execution_count": 65,
   "metadata": {},
   "outputs": [],
   "source": [
    "# In contacts.py\n",
    "\n",
    "class Address:\n",
    "    def __init__(self, street, city, state, zipcode, street2=''):\n",
    "        self.street = street\n",
    "        self.street2 = street2\n",
    "        self.city = city\n",
    "        self.state = state\n",
    "        self.zipcode = zipcode\n",
    "\n",
    "    def __str__(self):\n",
    "        lines = [self.street]\n",
    "        if self.street2:\n",
    "            lines.append(self.street2)\n",
    "        lines.append(f'{self.city}, {self.state} {self.zipcode}')\n",
    "        return '\\n'.join(lines)"
   ]
  },
  {
   "cell_type": "markdown",
   "metadata": {},
   "source": [
    "The class manages the address components and provides a pretty representation of an address.\n",
    "\n",
    "So far, the new classes have been extended to support more functionality, but there are no significant changes to the previous design. This is going to change with the design of the employees module and its classes.\n",
    "\n",
    "You can start by implementing an EmployeeDatabase class:"
   ]
  },
  {
   "cell_type": "markdown",
   "metadata": {},
   "source": [
    "enough)"
   ]
  }
 ],
 "metadata": {
  "kernelspec": {
   "display_name": "Python 3",
   "language": "python",
   "name": "python3"
  },
  "language_info": {
   "codemirror_mode": {
    "name": "ipython",
    "version": 3
   },
   "file_extension": ".py",
   "mimetype": "text/x-python",
   "name": "python",
   "nbconvert_exporter": "python",
   "pygments_lexer": "ipython3",
   "version": "3.7.4"
  }
 },
 "nbformat": 4,
 "nbformat_minor": 2
}
